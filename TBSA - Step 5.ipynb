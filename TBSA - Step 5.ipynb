{
 "cells": [
  {
   "cell_type": "markdown",
   "metadata": {},
   "source": [
    "<h1>Word Frequency: You and I</h1>"
   ]
  },
  {
   "cell_type": "markdown",
   "metadata": {},
   "source": [
    "This step contains analysis of word frequency in the Beatles songs. The <a href=\"https://textblob.readthedocs.io/en/dev/\">TextBlob library</a> will come in handy here."
   ]
  },
  {
   "cell_type": "code",
   "execution_count": 1,
   "metadata": {
    "collapsed": true
   },
   "outputs": [],
   "source": [
    "%matplotlib inline\n",
    "import operator\n",
    "import pandas as pd\n",
    "import matplotlib.pyplot as plt\n",
    "import math\n",
    "\n",
    "from textblob import TextBlob, Word\n",
    "\n",
    "from IPython.display import HTML, display\n",
    "import tabulate\n",
    "\n",
    "from collections import Counter"
   ]
  },
  {
   "cell_type": "code",
   "execution_count": 2,
   "metadata": {
    "collapsed": true
   },
   "outputs": [],
   "source": [
    "# read the source data\n",
    "df = pd.read_json('data.json')"
   ]
  },
  {
   "cell_type": "markdown",
   "metadata": {},
   "source": [
    "First, let's find core words, i.e. words that can be met in every Beatles' song!"
   ]
  },
  {
   "cell_type": "code",
   "execution_count": 3,
   "metadata": {},
   "outputs": [
    {
     "name": "stdout",
     "output_type": "stream",
     "text": [
      "set()\n"
     ]
    }
   ],
   "source": [
    "split_cleaned_lyrics = df['lowercase_lyrics'].str.split()\n",
    "lyrics_by_song = list(split_cleaned_lyrics.values)\n",
    "core = set(lyrics_by_song[0])\n",
    "for song in lyrics_by_song[1:]:\n",
    "    core = core & set(song)\n",
    "print(core)"
   ]
  },
  {
   "cell_type": "markdown",
   "metadata": {},
   "source": [
    "It turns out that there is not a word that is common to all Beatles songs! Even the omnipresent *the* is not present everywhere!\n",
    "\n",
    "Well, that's interesting, which songs don't have *the*?"
   ]
  },
  {
   "cell_type": "code",
   "execution_count": 4,
   "metadata": {},
   "outputs": [
    {
     "data": {
      "text/plain": [
       "16        I Want To Hold Your Hand\n",
       "42                     Oh! Darling\n",
       "44     I Want You (She's So Heavy)\n",
       "55                     Her Majesty\n",
       "64                  Wild Honey Pie\n",
       "83                Long, Long, Long\n",
       "94                  Hello, Goodbye\n",
       "95       Strawberry Fields Forever\n",
       "118             She Said, She Said\n",
       "168     I Should Have Known Better\n",
       "196               Anna (Go To Him)\n",
       "201                     Love Me Do\n",
       "207                Twist And Shout\n",
       "Name: title, dtype: object"
      ]
     },
     "execution_count": 4,
     "metadata": {},
     "output_type": "execute_result"
    }
   ],
   "source": [
    "df[df['lowercase_lyrics'].str.contains('the')==False]['title']"
   ]
  },
  {
   "cell_type": "markdown",
   "metadata": {},
   "source": [
    "That's funny! Thirteen songs without *the*!"
   ]
  },
  {
   "cell_type": "markdown",
   "metadata": {},
   "source": [
    "Now, let's find the words that are most common (i.e. they are contained in the biggest number of songs), the top 20:"
   ]
  },
  {
   "cell_type": "code",
   "execution_count": 5,
   "metadata": {},
   "outputs": [
    {
     "name": "stdout",
     "output_type": "stream",
     "text": [
      "the 181\n",
      "to 177\n",
      "you 172\n",
      "and 171\n",
      "i 165\n",
      "a 155\n",
      "me 144\n",
      "that 122\n",
      "in 120\n",
      "my 114\n",
      "of 105\n",
      "be 101\n",
      "it 99\n",
      "know 98\n",
      "all 95\n",
      "so 90\n",
      "is 89\n",
      "love 89\n",
      "on 87\n",
      "your 86\n"
     ]
    }
   ],
   "source": [
    "lyrics_by_song = list(split_cleaned_lyrics.values)\n",
    "counter_by_songs = {}\n",
    "for song in lyrics_by_song:\n",
    "    words_found = set()\n",
    "    for word in song:\n",
    "        if word in counter_by_songs:\n",
    "            if word not in words_found:\n",
    "                words_found.add(word)\n",
    "                counter_by_songs[word] = counter_by_songs[word] + 1\n",
    "        else:\n",
    "            counter_by_songs[word] = 1\n",
    "            words_found.add(word)\n",
    "\n",
    "sorted_counter_by_songs = sorted(counter_by_songs.items(), key=operator.itemgetter(1), reverse=True)\n",
    "\n",
    "for word, freq in sorted_counter_by_songs[:20]:\n",
    "    print (word, freq)"
   ]
  },
  {
   "cell_type": "markdown",
   "metadata": {},
   "source": [
    "Not surprisingly, the leader is *the*, and it can be found in 181 songs. Then we can see such words as *to* (177), *you* (172), *and* (171) and *I* (165).\n",
    "\n",
    "Now the time has come to find out word frequency for all the songs."
   ]
  },
  {
   "cell_type": "code",
   "execution_count": 6,
   "metadata": {
    "collapsed": true
   },
   "outputs": [],
   "source": [
    "def count_frequencies(cleaned_lyrics):\n",
    "    '''\n",
    "        Count relative frequency for each word in lyrics\n",
    "    '''\n",
    "    \n",
    "    split_cleaned_lyrics = cleaned_lyrics.str.split()\n",
    "    \n",
    "    # list of all words\n",
    "    lyrics = [w for song in list(split_cleaned_lyrics.values) for w in song]\n",
    "    \n",
    "    lyrics_count = len(lyrics)\n",
    "    unique_words_count = len(set(lyrics))\n",
    "    c = Counter(lyrics)\n",
    "    \n",
    "    # list of tuples with word and its absolute frequency\n",
    "    raw_figures = sorted(c.items(), key=operator.itemgetter(1), reverse=True)\n",
    "    \n",
    "    # list of tuples with word and its relative frequency\n",
    "    shares = [(rf[0], round(float(100*rf[1])/lyrics_count, 2)) for rf in raw_figures]\n",
    "    return shares, unique_words_count, lyrics_count"
   ]
  },
  {
   "cell_type": "markdown",
   "metadata": {},
   "source": [
    "How unique are the words which comprise the Beatles' songs? I use here unique words coefficient: it is unique words number divided by total words number."
   ]
  },
  {
   "cell_type": "code",
   "execution_count": 7,
   "metadata": {},
   "outputs": [
    {
     "name": "stdout",
     "output_type": "stream",
     "text": [
      "Unique words number: 2515\n",
      "Total words number: 37877\n",
      "Unique words coefficient: 0.07\n"
     ]
    }
   ],
   "source": [
    "shares, total_unique_words_number, total_words_number = count_frequencies(df['lowercase_lyrics'])\n",
    "\n",
    "print ('Unique words number: %i' % total_unique_words_number)\n",
    "print ('Total words number: %i' % total_words_number)\n",
    "print ('Unique words coefficient: {:.2f}'.format(total_unique_words_number/total_words_number))"
   ]
  },
  {
   "cell_type": "markdown",
   "metadata": {},
   "source": [
    "What will we see if we plot the relative frequencies (absolute frequencies divided by the total words quantity)?"
   ]
  },
  {
   "cell_type": "code",
   "execution_count": 8,
   "metadata": {},
   "outputs": [
    {
     "data": {
      "text/plain": [
       "<matplotlib.axes._subplots.AxesSubplot at 0x7f3517fd10b8>"
      ]
     },
     "execution_count": 8,
     "metadata": {},
     "output_type": "execute_result"
    },
    {
     "data": {
      "text/plain": [
       "<Figure size 432x288 with 0 Axes>"
      ]
     },
     "metadata": {},
     "output_type": "display_data"
    },
    {
     "data": {
      "image/png": "[encoded data removed]",
      "text/plain": [
       "<Figure size 1440x720 with 1 Axes>"
      ]
     },
     "metadata": {},
     "output_type": "display_data"
    }
   ],
   "source": [
    "plt.figure()\n",
    "shares_dict = [s[1] for s in shares]\n",
    "df_shares = pd.DataFrame(shares_dict[:200])\n",
    "df_shares.plot(figsize=(20,10))"
   ]
  },
  {
   "cell_type": "markdown",
   "metadata": {},
   "source": [
    "The same in log-log scale will be as follows:"
   ]
  },
  {
   "cell_type": "code",
   "execution_count": 9,
   "metadata": {},
   "outputs": [
    {
     "data": {
      "text/plain": [
       "<matplotlib.axes._subplots.AxesSubplot at 0x7f3517fdad30>"
      ]
     },
     "execution_count": 9,
     "metadata": {},
     "output_type": "execute_result"
    },
    {
     "data": {
      "image/png": "[encoded data removed]",
      "text/plain": [
       "<Figure size 1440x720 with 1 Axes>"
      ]
     },
     "metadata": {},
     "output_type": "display_data"
    }
   ],
   "source": [
    "shares_dict = [s[1]*total_words_number for s in shares[:200]]\n",
    "df_shares = pd.DataFrame(index=range(1, 201), data=shares_dict)\n",
    "df_shares.plot(figsize=(20,10), loglog=True)"
   ]
  },
  {
   "cell_type": "markdown",
   "metadata": {},
   "source": [
    "It's clear that the frequencies are falling drastically! Even before first 20 words they become less that 1%.\n",
    "\n",
    "The first 20 words with their relative frequencies are as follows:"
   ]
  },
  {
   "cell_type": "code",
   "execution_count": 10,
   "metadata": {},
   "outputs": [
    {
     "name": "stdout",
     "output_type": "stream",
     "text": [
      "you 4.8\n",
      "i 3.69\n",
      "the 2.84\n",
      "me 2.27\n",
      "to 2.24\n",
      "and 1.92\n",
      "a 1.92\n",
      "love 1.2\n",
      "in 1.14\n",
      "it 1.1\n",
      "be 1.06\n",
      "my 1.05\n",
      "know 1.03\n",
      "all 1.02\n",
      "i'm 0.9\n",
      "that 0.89\n",
      "don't 0.85\n",
      "is 0.84\n",
      "your 0.78\n",
      "on 0.77\n"
     ]
    }
   ],
   "source": [
    "for word, freq in shares[:20]:\n",
    "    print (word, freq)"
   ]
  },
  {
   "cell_type": "markdown",
   "metadata": {},
   "source": [
    "<a href=\"https://en.wikipedia.org/wiki/Zipf%27s_law\">Zipf's law</a> states that given some corpus of natural language utterances, the frequency of any word is inversely proportional to its rank in the frequency table. Is this distribution subject to Zipf's law? If we divide the frequencies, one by one, to their neighbours (the first to the second, the second to the third, etc.), we should get roughly the same number. For the first and the second frequency the coefficient is 1.3, but for others it's not like that."
   ]
  },
  {
   "cell_type": "code",
   "execution_count": 11,
   "metadata": {},
   "outputs": [
    {
     "name": "stdout",
     "output_type": "stream",
     "text": [
      "1.3008130081300813\n",
      "1.2992957746478875\n",
      "1.251101321585903\n",
      "1.013392857142857\n",
      "1.1666666666666667\n",
      "1.0\n",
      "1.6\n",
      "1.0526315789473684\n",
      "1.0363636363636362\n",
      "1.0377358490566038\n",
      "1.0095238095238095\n",
      "1.0194174757281553\n",
      "1.0098039215686274\n",
      "1.1333333333333333\n",
      "1.0112359550561798\n",
      "1.0470588235294118\n",
      "1.0119047619047619\n",
      "1.0769230769230769\n",
      "1.012987012987013\n",
      "1.0\n"
     ]
    }
   ],
   "source": [
    "for i, share in enumerate(shares[:20]):\n",
    "    print (share[1] / shares[i+1][1])"
   ]
  },
  {
   "cell_type": "markdown",
   "metadata": {},
   "source": [
    "Let's plot the expected Zipf's curve and a real one in one picture."
   ]
  },
  {
   "cell_type": "code",
   "execution_count": 12,
   "metadata": {},
   "outputs": [
    {
     "data": {
      "text/plain": [
       "<matplotlib.axes._subplots.AxesSubplot at 0x7f3517f92ef0>"
      ]
     },
     "execution_count": 12,
     "metadata": {},
     "output_type": "execute_result"
    },
    {
     "data": {
      "image/png": "[encoded data removed]",
      "text/plain": [
       "<Figure size 1440x720 with 1 Axes>"
      ]
     },
     "metadata": {},
     "output_type": "display_data"
    }
   ],
   "source": [
    "shares_dict = [[shares[0][1], shares[0][1]]]\n",
    "\n",
    "shares_dict.extend([[shares[i][1], shares[i-1][1]/1.3] for i, s in enumerate(shares[0:200]) if i>0])\n",
    "\n",
    "df_shares = pd.DataFrame(shares_dict, columns=('Real values', 'Expected Zipf values'))\n",
    "df_shares.plot(figsize=(20,10))"
   ]
  },
  {
   "cell_type": "markdown",
   "metadata": {},
   "source": [
    "So we see that the curve isn't strictly Zipfean by values. Still, its form is rather close to one. But the word number is not quite big anyway, so it would be a little bit naive to expect ideal match."
   ]
  },
  {
   "cell_type": "markdown",
   "metadata": {},
   "source": [
    "Anyway, the leader is *you*. It seems that *you* is more important in songs that *me*... But *I* occupies the second place. What if we sum up *I* + short verb forms (*I'm*, *I'll* etc.), and all such short verb forms with *you*?"
   ]
  },
  {
   "cell_type": "code",
   "execution_count": 13,
   "metadata": {},
   "outputs": [
    {
     "name": "stdout",
     "output_type": "stream",
     "text": [
      "Forms with I: 5.38\n",
      "Forms with you: 5.45\n"
     ]
    }
   ],
   "source": [
    "i_forms = 0\n",
    "you_forms = 0\n",
    "for s in shares:\n",
    "    if \"i'\" in s[0] or s[0] == \"i\":\n",
    "        i_forms = i_forms + s[1]\n",
    "    elif \"you'\" in s[0] or s[0] == \"you\":\n",
    "        you_forms = you_forms + s[1]\n",
    "print('Forms with I: {:.2f}'.format(i_forms))\n",
    "print('Forms with you: {:.2f}'.format(you_forms))"
   ]
  },
  {
   "cell_type": "markdown",
   "metadata": {},
   "source": [
    "Aha! *You* wins anyway!"
   ]
  },
  {
   "cell_type": "markdown",
   "metadata": {},
   "source": [
    "It's interesting to compare these figures with the results presented by <a href=\"https://www.theguardian.com/music/datablog/2010/nov/16/beatles-lyrics-words-music-itunes\">The Guardian</a>. They used the lyrics of all the songs recorded by the Beatles, so my source data contains less songs. But the top three words (*you*, *I*, *the*) and their order are the same."
   ]
  },
  {
   "cell_type": "markdown",
   "metadata": {},
   "source": [
    "Now let's look at the frequencies by years. Is there any tendecy? "
   ]
  },
  {
   "cell_type": "code",
   "execution_count": 14,
   "metadata": {},
   "outputs": [
    {
     "name": "stdout",
     "output_type": "stream",
     "text": [
      "Unique words number: 566, unique words coefficient: 0.10 in 1963\n",
      "Unique words number: 640, unique words coefficient: 0.11 in 1964\n",
      "Unique words number: 730, unique words coefficient: 0.12 in 1965\n",
      "Unique words number: 539, unique words coefficient: 0.21 in 1966\n",
      "Unique words number: 901, unique words coefficient: 0.17 in 1967\n",
      "Unique words number: 971, unique words coefficient: 0.16 in 1968\n",
      "Unique words number: 737, unique words coefficient: 0.19 in 1969\n",
      "Unique words number: 476, unique words coefficient: 0.22 in 1970\n"
     ]
    }
   ],
   "source": [
    "shares_total = []\n",
    "\n",
    "uniq_words_numbers = []\n",
    "uniq_words_coeffs = []\n",
    "\n",
    "for year in range(1963, 1971):\n",
    "    shares_year, uniq_words_number, words_total = count_frequencies(df[df['year']==year]['lowercase_lyrics'])\n",
    "    print ('Unique words number: {}, unique words coefficient: {:.2f} in {}'.format(uniq_words_number, uniq_words_number/words_total, year))\n",
    "    uniq_words_numbers.append(uniq_words_number/1000)\n",
    "    uniq_words_coeffs.append(uniq_words_number/words_total)\n",
    "    shares_total.append(shares_year)\n",
    "shares_total.append(shares)"
   ]
  },
  {
   "cell_type": "markdown",
   "metadata": {},
   "source": [
    "Let's plot the figures! Note that here I divide the number of unique words by 1000 to have the same scale for proper vusialization."
   ]
  },
  {
   "cell_type": "code",
   "execution_count": 15,
   "metadata": {
    "collapsed": true
   },
   "outputs": [],
   "source": [
    "df_uniq = pd.DataFrame({'Unique words number': uniq_words_numbers, 'Unique words coefficient': uniq_words_coeffs},\n",
    "                      index=range(1963, 1971))"
   ]
  },
  {
   "cell_type": "code",
   "execution_count": 16,
   "metadata": {},
   "outputs": [
    {
     "data": {
      "text/plain": [
       "<matplotlib.axes._subplots.AxesSubplot at 0x7f3517fb4cc0>"
      ]
     },
     "execution_count": 16,
     "metadata": {},
     "output_type": "execute_result"
    },
    {
     "data": {
      "image/png": "[encoded data removed]",
      "text/plain": [
       "<Figure size 432x288 with 1 Axes>"
      ]
     },
     "metadata": {},
     "output_type": "display_data"
    }
   ],
   "source": [
    "df_uniq.plot()"
   ]
  },
  {
   "cell_type": "markdown",
   "metadata": {},
   "source": [
    "It's interesting to see that the unique words coefficient was getting higher with time, then fell down but  reached its maximum in 1970. But the number of unique words doesn't follow the coefficient at all.\n",
    "\n",
    "Now it's time to take a look at the top of frequent words by years."
   ]
  },
  {
   "cell_type": "code",
   "execution_count": 17,
   "metadata": {},
   "outputs": [
    {
     "data": {
      "text/html": [
       "<table><tr><td></td><td><strong>1963</strong></td><td></td><td><strong>1964</strong></td><td></td><td><strong>1965</strong></td><td></td><td><strong>1966</strong></td><td></td><td><strong>1967</strong></td><td></td><td><strong>1968</strong></td><td></td><td><strong>1969</strong></td><td></td><td><strong>1970</strong></td><td></td><td><strong>Total</strong></td></tr><tr><td>you</td><td>6.14</td><td>you</td><td>5.14</td><td>you</td><td>5.13</td><td>you</td><td>3.69</td><td>you</td><td>4.56</td><td>you</td><td>4.74</td><td>you</td><td>3.86</td><td>i</td><td>3.78</td><td>you</td><td>4.80</td></tr><tr><td>i</td><td>5.08</td><td>i</td><td>4.99</td><td>i</td><td>4.91</td><td>the</td><td>3.65</td><td>the</td><td>4.10</td><td>the</td><td>3.99</td><td>the</td><td>3.28</td><td>it</td><td>3.23</td><td>i</td><td>3.69</td></tr><tr><td>me</td><td>3.28</td><td>me</td><td>3.11</td><td>the</td><td>2.58</td><td>i</td><td>3.65</td><td>a</td><td>2.53</td><td>nah</td><td>2.70</td><td>me</td><td>2.92</td><td>you</td><td>3.05</td><td>the</td><td>2.84</td></tr><tr><td>and</td><td>2.17</td><td>to</td><td>2.68</td><td>me</td><td>2.53</td><td>a</td><td>2.17</td><td>to</td><td>2.29</td><td>to</td><td>2.10</td><td>to</td><td>2.68</td><td>the</td><td>2.91</td><td>me</td><td>2.27</td></tr><tr><td>love</td><td>1.81</td><td>love</td><td>2.36</td><td>and</td><td>2.45</td><td>to</td><td>2.06</td><td>i</td><td>2.17</td><td>a</td><td>1.91</td><td>i</td><td>2.47</td><td>be</td><td>2.54</td><td>to</td><td>2.24</td></tr><tr><td>to</td><td>1.79</td><td>and</td><td>2.31</td><td>to</td><td>2.44</td><td>and</td><td>1.83</td><td>and</td><td>1.99</td><td>i</td><td>1.88</td><td>all</td><td>2.29</td><td>me</td><td>2.54</td><td>and</td><td>1.92</td></tr><tr><td>a</td><td>1.68</td><td>a</td><td>1.76</td><td>i'm</td><td>1.47</td><td>all</td><td>1.60</td><td>know</td><td>1.76</td><td>me</td><td>1.43</td><td>a</td><td>2.08</td><td>a</td><td>2.35</td><td>a</td><td>1.92</td></tr><tr><td>be</td><td>1.56</td><td>the</td><td>1.49</td><td>a</td><td>1.42</td><td>of</td><td>1.45</td><td>is</td><td>1.74</td><td>in</td><td>1.41</td><td>now</td><td>1.76</td><td>yeah</td><td>2.31</td><td>love</td><td>1.20</td></tr><tr><td>the</td><td>1.47</td><td>my</td><td>1.42</td><td>girl</td><td>1.13</td><td>me</td><td>1.45</td><td>all</td><td>1.59</td><td>on</td><td>1.40</td><td>much</td><td>1.71</td><td>let</td><td>2.03</td><td>in</td><td>1.14</td></tr><tr><td>yeah</td><td>1.26</td><td>i'm</td><td>1.37</td><td>that</td><td>1.07</td><td>in</td><td>1.37</td><td>love</td><td>1.46</td><td>and</td><td>1.33</td><td>together</td><td>1.65</td><td>on</td><td>1.85</td><td>it</td><td>1.10</td></tr></table>"
      ],
      "text/plain": [
       "<IPython.core.display.HTML object>"
      ]
     },
     "metadata": {},
     "output_type": "display_data"
    }
   ],
   "source": [
    "def show_table(shares, limit, headlines):\n",
    "    '''\n",
    "        Display an html table with shares data\n",
    "    '''\n",
    "    \n",
    "    words_by_column = '<tr>'\n",
    "    \n",
    "    for headline in headlines:\n",
    "        words_by_column = words_by_column + '<td></td><td><strong>%s</strong></td>' % str(headline)\n",
    "    words_by_column = words_by_column + '</tr>'    \n",
    "    \n",
    "    for i in range(0, limit):\n",
    "\n",
    "        words_by_column = words_by_column + '<tr>'\n",
    "\n",
    "        for st in shares:\n",
    "            \n",
    "            words_by_column = words_by_column + '<td>{}</td><td>{:.2f}</td>'.format(st[i][0], st[i][1])\n",
    "\n",
    "        words_by_column = words_by_column + '</tr>'    \n",
    "        \n",
    "    display(HTML('<table>' + words_by_column + '</table>'))\n",
    "\n",
    "show_table(shares_total, 10, list(range(1963, 1971)) + ['Total'])"
   ]
  },
  {
   "cell_type": "markdown",
   "metadata": {},
   "source": [
    "What can be seen from this cute table? The obvious leader is again *you*. Still its frequency is going down with time. In 1970 it loses its position to *I* and even to *it*. So 1970 is a very outstanding year in terms of word frequencies.\n",
    "\n",
    "*I* and *the* were holding the second position during three years each, and only 1970 changed everything.\n",
    "\n",
    "*Me* was among the leaders, but showed surprisingly low results in 1967 (not even in the top ten!).\n",
    "\n",
    "The most typical year was 1965, where the top four was identical to total frequencies. "
   ]
  },
  {
   "cell_type": "markdown",
   "metadata": {},
   "source": [
    "It's funny, but *nah* (not the most common word in English) has surprisingly high results in 1968. Let's look at the songs that contain the word."
   ]
  },
  {
   "cell_type": "code",
   "execution_count": 18,
   "metadata": {},
   "outputs": [
    {
     "data": {
      "text/plain": [
       "6               Hey Jude\n",
       "139    Run For Your Life\n",
       "Name: title, dtype: object"
      ]
     },
     "execution_count": 18,
     "metadata": {},
     "output_type": "execute_result"
    }
   ],
   "source": [
    "df[df['lowercase_lyrics'].str.contains('nah')]['title']"
   ]
  },
  {
   "cell_type": "markdown",
   "metadata": {},
   "source": [
    "Of course, it's *Hey Jude* that is to blame! Because of everlasting *nah nah nah hey Jude!* in the end of the song!"
   ]
  },
  {
   "cell_type": "markdown",
   "metadata": {},
   "source": [
    "Let's look at uniqueness with relation to the songs authors. This is the first time we use not the formal, but real authorship information as it's written in the <a href=\"https://en.wikipedia.org/wiki/List_of_songs_recorded_by_the_Beatles\">Wikipedia article</a>. "
   ]
  },
  {
   "cell_type": "code",
   "execution_count": 19,
   "metadata": {},
   "outputs": [
    {
     "name": "stdout",
     "output_type": "stream",
     "text": [
      "Lennon: unique words number: 1186, unique words coefficient: 0.12\n",
      "McCartney: unique words number: 1086, unique words coefficient: 0.12\n",
      "Harrison: unique words number: 581, unique words coefficient: 0.17\n"
     ]
    }
   ],
   "source": [
    "shares_total = []\n",
    "for writer in ('Lennon', 'McCartney', 'Harrison'):\n",
    "    shares_by_writer, uniq_words_number, words_total = count_frequencies(df[df['writers']==writer]['lowercase_lyrics'])\n",
    "    shares_total.append(shares_by_writer)\n",
    "    print ('{}: unique words number: {}, unique words coefficient: {:.2f}'.format(writer, uniq_words_number, uniq_words_number/words_total))"
   ]
  },
  {
   "cell_type": "markdown",
   "metadata": {},
   "source": [
    "It's interesting to note that although Harrison has the lowest unique words number, his coefficient is higher than that of Lennon and McCartney. Now it's time to turn to the top ten of most frequent words."
   ]
  },
  {
   "cell_type": "code",
   "execution_count": 20,
   "metadata": {},
   "outputs": [
    {
     "data": {
      "text/html": [
       "<table><tr><td></td><td><strong>Lennon</strong></td><td></td><td><strong>McCartney</strong></td><td></td><td><strong>Harrison</strong></td></tr><tr><td>you</td><td>5.59</td><td>you</td><td>3.86</td><td>you</td><td>5.38</td></tr><tr><td>i</td><td>3.57</td><td>the</td><td>3.34</td><td>i</td><td>5.21</td></tr><tr><td>the</td><td>2.89</td><td>i</td><td>2.95</td><td>the</td><td>3.01</td></tr><tr><td>to</td><td>2.68</td><td>to</td><td>2.30</td><td>me</td><td>2.81</td></tr><tr><td>me</td><td>2.09</td><td>and</td><td>2.27</td><td>much</td><td>2.19</td></tr><tr><td>is</td><td>1.68</td><td>me</td><td>2.18</td><td>to</td><td>2.16</td></tr><tr><td>a</td><td>1.64</td><td>nah</td><td>1.82</td><td>don't</td><td>1.84</td></tr><tr><td>love</td><td>1.43</td><td>a</td><td>1.82</td><td>and</td><td>1.75</td></tr><tr><td>and</td><td>1.37</td><td>it</td><td>1.43</td><td>all</td><td>1.70</td></tr><tr><td>know</td><td>1.23</td><td>in</td><td>1.33</td><td>be</td><td>1.64</td></tr></table>"
      ],
      "text/plain": [
       "<IPython.core.display.HTML object>"
      ]
     },
     "metadata": {},
     "output_type": "display_data"
    }
   ],
   "source": [
    "show_table(shares_total, 10, ['Lennon', 'McCartney', 'Harrison'])"
   ]
  },
  {
   "cell_type": "markdown",
   "metadata": {},
   "source": [
    "It seems that Lennon is a bit closer to Harrison than to McCartney: the latter has more evenly distributed frequencies and different order of words in the top three. Let's plot the figures (and only them, ignoring the words data) for better understanding."
   ]
  },
  {
   "cell_type": "code",
   "execution_count": 21,
   "metadata": {},
   "outputs": [
    {
     "data": {
      "text/plain": [
       "<matplotlib.axes._subplots.AxesSubplot at 0x7f3517fad4e0>"
      ]
     },
     "execution_count": 21,
     "metadata": {},
     "output_type": "execute_result"
    },
    {
     "data": {
      "image/png": "[encoded data removed]",
      "text/plain": [
       "<Figure size 1080x720 with 1 Axes>"
      ]
     },
     "metadata": {},
     "output_type": "display_data"
    }
   ],
   "source": [
    "df_members = pd.DataFrame({'Lennon': [x[1] for x in shares_total[0][:20]], \n",
    "                    'McCartney': [x[1] for x in shares_total[1][:20]],\n",
    "                    'Harrison': [x[1] for x in shares_total[2][:20]]\n",
    "                   })\n",
    "df_members.plot(figsize=(15,10))"
   ]
  },
  {
   "cell_type": "markdown",
   "metadata": {},
   "source": [
    "Let's do the same analysis for cover songs and the original Beatles songs separately."
   ]
  },
  {
   "cell_type": "code",
   "execution_count": 22,
   "metadata": {
    "collapsed": true
   },
   "outputs": [],
   "source": [
    "df_cover = df[df['cover']==True]\n",
    "df_orig = df[df['cover']==False]"
   ]
  },
  {
   "cell_type": "code",
   "execution_count": 23,
   "metadata": {},
   "outputs": [
    {
     "name": "stdout",
     "output_type": "stream",
     "text": [
      "Original songs: unique words number: 2335, unique words coefficient: 0.07\n",
      "Cover songs: unique words number: 656, unique words coefficient: 0.15\n"
     ]
    }
   ],
   "source": [
    "shares_orig, uniq_words_number, words_total = count_frequencies(df_orig['lowercase_lyrics'])\n",
    "\n",
    "print ('Original songs: unique words number: {}, unique words coefficient: {:.2f}'.format(uniq_words_number, uniq_words_number/words_total))\n",
    "\n",
    "shares_cover, uniq_words_number, words_total   = count_frequencies(df_cover['lowercase_lyrics'])\n",
    "\n",
    "print ('Cover songs: unique words number: {}, unique words coefficient: {:.2f}'.format(uniq_words_number, uniq_words_number/words_total))"
   ]
  },
  {
   "cell_type": "markdown",
   "metadata": {},
   "source": [
    "Somehow unique words coefficient is more than twice as high in cover songs!"
   ]
  },
  {
   "cell_type": "code",
   "execution_count": 24,
   "metadata": {},
   "outputs": [
    {
     "data": {
      "text/html": [
       "<table><tr><td></td><td><strong>Original</strong></td><td></td><td><strong>Cover</strong></td><td></td><td><strong>Total</strong></td></tr><tr><td>you</td><td>4.84</td><td>you</td><td>4.51</td><td>you</td><td>4.80</td></tr><tr><td>i</td><td>3.69</td><td>i</td><td>3.66</td><td>i</td><td>3.69</td></tr><tr><td>the</td><td>2.99</td><td>me</td><td>2.68</td><td>the</td><td>2.84</td></tr><tr><td>to</td><td>2.33</td><td>a</td><td>2.52</td><td>me</td><td>2.27</td></tr><tr><td>me</td><td>2.21</td><td>and</td><td>2.47</td><td>to</td><td>2.24</td></tr><tr><td>and</td><td>1.85</td><td>the</td><td>1.72</td><td>and</td><td>1.92</td></tr><tr><td>a</td><td>1.84</td><td>baby</td><td>1.58</td><td>a</td><td>1.92</td></tr><tr><td>love</td><td>1.25</td><td>to</td><td>1.56</td><td>love</td><td>1.20</td></tr><tr><td>in</td><td>1.18</td><td>it</td><td>1.46</td><td>in</td><td>1.14</td></tr><tr><td>be</td><td>1.11</td><td>my</td><td>1.37</td><td>it</td><td>1.10</td></tr></table>"
      ],
      "text/plain": [
       "<IPython.core.display.HTML object>"
      ]
     },
     "metadata": {},
     "output_type": "display_data"
    }
   ],
   "source": [
    "shares_total = [shares_orig, shares_cover, shares]\n",
    "show_table(shares_total, 10, ['Original', 'Cover', 'Total'])"
   ]
  },
  {
   "cell_type": "markdown",
   "metadata": {},
   "source": [
    "We see that the frequencies are much alike. *You* and *I* are the favourites, and then differences begin. But the words are basically the same. Funny to see that one of the most frequent word in covers (the 7th place) is *baby*."
   ]
  },
  {
   "cell_type": "markdown",
   "metadata": {
    "collapsed": true
   },
   "source": [
    "But what if we lemmatize the sentences? Will it change anything?"
   ]
  },
  {
   "cell_type": "code",
   "execution_count": 25,
   "metadata": {
    "collapsed": true
   },
   "outputs": [],
   "source": [
    "def lemmatize(sentence):\n",
    "\n",
    "    words = sentence.split()\n",
    "    res = ' '.join([Word(w).lemmatize() for w in words])\n",
    "    return res\n",
    "\n",
    "df['cleaned_lyrics_lemmas'] = df['lowercase_lyrics'].apply(lemmatize)"
   ]
  },
  {
   "cell_type": "code",
   "execution_count": 26,
   "metadata": {},
   "outputs": [
    {
     "name": "stdout",
     "output_type": "stream",
     "text": [
      "Unique words number: 2337\n",
      "Unique words coefficient: 0.06\n"
     ]
    }
   ],
   "source": [
    "shares_lemmas, total_unique_words_number, total_words_number = count_frequencies(df['cleaned_lyrics_lemmas'])\n",
    "\n",
    "print ('Unique words number: %i' % total_unique_words_number)\n",
    "print ('Unique words coefficient: {:.2f}'.format(total_unique_words_number/total_words_number))"
   ]
  },
  {
   "cell_type": "markdown",
   "metadata": {},
   "source": [
    "Given that the total number of words is the same, the unique words number has decreased. Because of that, the unique words coefficient has decreased as well. Let's plot the frequencies."
   ]
  },
  {
   "cell_type": "code",
   "execution_count": 27,
   "metadata": {},
   "outputs": [
    {
     "data": {
      "text/plain": [
       "<matplotlib.axes._subplots.AxesSubplot at 0x7f3513332588>"
      ]
     },
     "execution_count": 27,
     "metadata": {},
     "output_type": "execute_result"
    },
    {
     "data": {
      "image/png": "[encoded data removed]",
      "text/plain": [
       "<Figure size 1440x720 with 1 Axes>"
      ]
     },
     "metadata": {},
     "output_type": "display_data"
    }
   ],
   "source": [
    "shares_lemmas_dict = [[shares_lemmas[0][1], shares_lemmas[0][1]]]\n",
    "\n",
    "shares_lemmas_dict.extend([[shares_lemmas[i][1], shares_lemmas[i-1][1]/1.3] for i, s in enumerate(shares_lemmas[0:200]) if i>0])\n",
    "\n",
    "df_shares_lemmas = pd.DataFrame(shares_lemmas_dict, columns=('Real values', 'Expected Zipf values'))\n",
    "df_shares_lemmas.plot(figsize=(20,10))"
   ]
  },
  {
   "cell_type": "markdown",
   "metadata": {},
   "source": [
    "Looks quite Zipfean! Now let's compare the sorted frequencies."
   ]
  },
  {
   "cell_type": "code",
   "execution_count": 28,
   "metadata": {},
   "outputs": [
    {
     "data": {
      "text/html": [
       "<table><tr><td></td><td><strong>Raw</strong></td><td></td><td><strong>Lemmatized</strong></td></tr><tr><td>you</td><td>4.80</td><td>you</td><td>4.80</td></tr><tr><td>i</td><td>3.69</td><td>i</td><td>3.69</td></tr><tr><td>the</td><td>2.84</td><td>the</td><td>2.84</td></tr><tr><td>me</td><td>2.27</td><td>me</td><td>2.27</td></tr><tr><td>to</td><td>2.24</td><td>to</td><td>2.24</td></tr><tr><td>and</td><td>1.92</td><td>a</td><td>2.08</td></tr><tr><td>a</td><td>1.92</td><td>and</td><td>1.92</td></tr><tr><td>love</td><td>1.20</td><td>love</td><td>1.26</td></tr><tr><td>in</td><td>1.14</td><td>in</td><td>1.14</td></tr><tr><td>it</td><td>1.10</td><td>it</td><td>1.10</td></tr></table>"
      ],
      "text/plain": [
       "<IPython.core.display.HTML object>"
      ]
     },
     "metadata": {},
     "output_type": "display_data"
    }
   ],
   "source": [
    "show_table([shares, shares_lemmas], 10, ['Raw', 'Lemmatized'])"
   ]
  },
  {
   "cell_type": "markdown",
   "metadata": {},
   "source": [
    "See the difference? Only *a* and *and* reversed their places, having changed their numbers. Everything else is the same. Unique words coefficient is only a little bit higher after lemmatization."
   ]
  },
  {
   "cell_type": "markdown",
   "metadata": {},
   "source": [
    "I will not go into details with lemmatized lyrics frequencies, as it's evident that the differenices between lemmatized and non-lemmatized frequencies are minimal."
   ]
  },
  {
   "cell_type": "markdown",
   "metadata": {},
   "source": [
    "But we can ask how well all these results correspond to English or British word frequencies.\n",
    "\n",
    "So, according to the 450 million words <a href=\"https://www.wordfrequency.info/free.asp?s=y\">Corpus of Contemporary American English</a> the first (lemmatized) five words are: *the*, *be*, *and*, *of*, *a*. \n",
    "\n",
    "According to Wiktionary, top 5 in frequency lists in <a href=\"https://en.wiktionary.org/wiki/Wiktionary:Frequency_lists/TV/2006/1-1000\">TV/movies transcripts (2006)</a> (non-lemmatized) are: *you, I, to, the, a*.\n",
    "\n",
    "Top 5 words in <a href=\"https://en.wiktionary.org/wiki/Wiktionary:Frequency_lists/PG/2006/04/1-10000\">Project Gutenberg frequency lists</a> (2006) are: *the, of, and, to, in*.\n",
    "\n",
    "Top 5 words in <a href=\"https://en.wiktionary.org/wiki/Wiktionary:Frequency_lists/Contemporary_fiction\">contemporary fiction</a>, lemmatized, are: *the, I, to, and, a*.\n",
    "\n",
    "Top 5 words in <a href=\"https://en.wiktionary.org/wiki/Wiktionary:Frequency_lists/Contemporary_poetry\">contemporary poetry</a>, lemmatized, are: *the, I, and, to, you*.\n",
    "\n",
    "if we turn to British National Corpus, what will we see? The <a href=\"http://ucrel.lancs.ac.uk/bncfreq/lists/1_2_all_freq.txt\">top 5</a> (non-lemmatized) is as follows: *the, of, and, a, in*.\n",
    "\n",
    "The same source, in <a href=\"http://ucrel.lancs.ac.uk/bncfreq/lists/2_2_spokenvwritten.txt\">spoken English</a> only: *the, I, you, and, it*; and in <a href=\"http://ucrel.lancs.ac.uk/bncfreq/lists/2_3_writtenspoken.txt\">written English</a> only: *the, of, and, a, in*. \n",
    "\n",
    "So we see that the frequency of words doesn't correspond much to the general frequency leaders (neither in American nor in British variants), and even contemporary fiction and poetry, but is rather close to TV/movies language. "
   ]
  },
  {
   "cell_type": "markdown",
   "metadata": {},
   "source": [
    "<h2>CONCLUSION</h2>\n",
    "\n",
    "There is not a word that is common to all Beatles songs. But as for the number of songs where words can be met, the leader is *the*, found in 182 songs. Then we can see such words as *to* (178 songs), *you* (173 songs), *and* (172 songs) and *I* (166 songs).\n",
    "\n",
    "When counting frequencies, they are falling drastically with the word's rank. Even before 20 words they become less that 1%. The leader is *you* (4.75%). Even when taking into account short verb forms, *you* is the leader. The distribution doesn't seem to correspond to Zipf's law very well, but it's more or less close.\n",
    "\n",
    "When looking at time dynamics, the unique words coefficient was getting generally higher with time, having reached its maximum in 1970 (0.22, with 0.1 in 1963). Still, the raw number of unique words doesn't correspond to the coefficient at all.\n",
    "\n",
    "The obvious leader every year is again *you*. Still its frequence is going down with time. In 1970 it loses its position to *I* and even to *it*. So 1970 is a very outstanding year in terms of word frequencies. *I* and *the* were holding the second position during three years each, and only 1970 changed everything. *Me* was among the leaders, but showed surprisingly low results in 1967 (not even in the top ten). The most typical year was 1965, where the top four was identical to total frequencies. The word *nah* has surprisingly high results in 1968, but just because of one song, *Hey Jude*.\n",
    "\n",
    "When taking into consideration individual authorship, Harrison has lower unique words number, but his unique words coefficient (0.17) is higher than that of Lennon and McCartney (0.12). Unique words coefficient is unique words number divided by total words number. It seems that Lennon is a bit closer to Harrison than to McCartney: the latter has more evenly distributed frequencies and different order of words in the top three.\n",
    "\n",
    "When looking at original songs and cover versions separately, *you* and *I* are the favourites in both cases. Then differences begin. Somehow unique words coefficient is twice as high in cover songs: obviously, their lyrics is not full of repeated words.\n",
    "\n",
    "In lemmatized lyrics only *a* and *and* reversed their places in the top ten. Everything else is the same.\n",
    "\n",
    "The frequency of words doesn't correspond much to the general frequency leaders (not in American nor in British variants), and even in contemporary fiction and poetry, but is rather close to TV/movies language."
   ]
  }
 ],
 "metadata": {
  "kernelspec": {
   "display_name": "Python 3",
   "language": "python",
   "name": "python3"
  },
  "language_info": {
   "codemirror_mode": {
    "name": "ipython",
    "version": 3
   },
   "file_extension": ".py",
   "mimetype": "text/x-python",
   "name": "python",
   "nbconvert_exporter": "python",
   "pygments_lexer": "ipython3",
   "version": "3.5.2"
  }
 },
 "nbformat": 4,
 "nbformat_minor": 2
}
