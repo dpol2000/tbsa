{
 "cells": [
  {
   "cell_type": "markdown",
   "metadata": {},
   "source": [
    "<h1>Second by Second: Length above All</h1>\n",
    "\n",
    "<h3>The Beatles Songs Analysis Project</h3>\n",
    "\n",
    "Here I analyze statistical information about songs length as a simple but interesting attribute."
   ]
  },
  {
   "cell_type": "code",
   "execution_count": 1,
   "metadata": {
    "collapsed": true
   },
   "outputs": [],
   "source": [
    "# this allows plots to appear directly in the notebook\n",
    "%matplotlib inline\n",
    "\n",
    "import pandas as pd\n",
    "import matplotlib.pyplot as plt\n",
    "import numpy as np\n",
    "\n",
    "# load data\n",
    "df = pd.read_json('data.json')\n",
    "\n",
    "# configure graphics \n",
    "plt.style.use('ggplot')\n",
    "color = dict(boxes='DarkGreen', whiskers='DarkOrange', medians='DarkBlue', caps='Gray')"
   ]
  },
  {
   "cell_type": "markdown",
   "metadata": {},
   "source": [
    "Let's examine briefly overall songs length data: first of all, look at the main statistical parameters and create a box plot."
   ]
  },
  {
   "cell_type": "code",
   "execution_count": 2,
   "metadata": {},
   "outputs": [
    {
     "data": {
      "text/plain": [
       "count    208.000000\n",
       "mean     161.788462\n",
       "std       54.204421\n",
       "min       23.000000\n",
       "25%      132.500000\n",
       "50%      152.000000\n",
       "75%      179.250000\n",
       "max      467.000000\n",
       "Name: length, dtype: float64"
      ]
     },
     "execution_count": 2,
     "metadata": {},
     "output_type": "execute_result"
    }
   ],
   "source": [
    "df.length.describe()"
   ]
  },
  {
   "cell_type": "code",
   "execution_count": 3,
   "metadata": {},
   "outputs": [
    {
     "data": {
      "text/plain": [
       "Text(0,0.5,'Seconds')"
      ]
     },
     "execution_count": 3,
     "metadata": {},
     "output_type": "execute_result"
    },
    {
     "data": {
      "image/png": "[encoded data removed]",
      "text/plain": [
       "<Figure size 432x576 with 1 Axes>"
      ]
     },
     "metadata": {},
     "output_type": "display_data"
    }
   ],
   "source": [
    "df.length.plot.box(color=color, sym='r+', figsize=(6, 8)).set_ylabel('Seconds')"
   ]
  },
  {
   "cell_type": "markdown",
   "metadata": {},
   "source": [
    "We see that the range is huge, and there are many outliers! Let's identify the shortest and the longest songs."
   ]
  },
  {
   "cell_type": "code",
   "execution_count": 4,
   "metadata": {},
   "outputs": [
    {
     "data": {
      "text/plain": [
       "'Her Majesty'"
      ]
     },
     "execution_count": 4,
     "metadata": {},
     "output_type": "execute_result"
    }
   ],
   "source": [
    "# the shortest song's title\n",
    "df[df.length==df.length.min()].title.iat[0]"
   ]
  },
  {
   "cell_type": "code",
   "execution_count": 5,
   "metadata": {},
   "outputs": [
    {
     "data": {
      "text/plain": [
       "'Abbey Road'"
      ]
     },
     "execution_count": 5,
     "metadata": {},
     "output_type": "execute_result"
    }
   ],
   "source": [
    "# the shortest song's album\n",
    "df[df.length==df.length.min()].album_title.iat[0]"
   ]
  },
  {
   "cell_type": "code",
   "execution_count": 6,
   "metadata": {},
   "outputs": [
    {
     "data": {
      "text/plain": [
       "1969"
      ]
     },
     "execution_count": 6,
     "metadata": {},
     "output_type": "execute_result"
    }
   ],
   "source": [
    "# the shortest song's year\n",
    "df[df.length==df.length.min()].year.iat[0]"
   ]
  },
  {
   "cell_type": "code",
   "execution_count": 7,
   "metadata": {},
   "outputs": [
    {
     "data": {
      "text/plain": [
       "\"I Want You (She's So Heavy)\""
      ]
     },
     "execution_count": 7,
     "metadata": {},
     "output_type": "execute_result"
    }
   ],
   "source": [
    "# the longest song's title\n",
    "df[df.length==df.length.max()].title.iat[0]"
   ]
  },
  {
   "cell_type": "code",
   "execution_count": 8,
   "metadata": {},
   "outputs": [
    {
     "data": {
      "text/plain": [
       "'Abbey Road'"
      ]
     },
     "execution_count": 8,
     "metadata": {},
     "output_type": "execute_result"
    }
   ],
   "source": [
    "# the longest song's album\n",
    "df[df.length==df.length.max()].album_title.iat[0]"
   ]
  },
  {
   "cell_type": "markdown",
   "metadata": {},
   "source": [
    "So the minimum length is only 23 seconds (it's <i><a href=\"https://en.wikipedia.org/wiki/Her_Majesty_(song)\">Her Majesty</a></i> from <b><a href=\"https://en.wikipedia.org/wiki/Abbey_Road\">Abbey Road</a></b>, 1969), the maximum length is 467 seconds (almost 8 minutes, it's <i><a href=\"https://en.wikipedia.org/wiki/I_Want_You_(She%27s_So_Heavy)\">I Want You</a></i> from the same album! \n",
    "\n",
    "The mean is about 162 seconds (about 2.7 minutes) which seems to be rather little.\n",
    "\n",
    "Let's see now how songs length changes with time."
   ]
  },
  {
   "cell_type": "code",
   "execution_count": 9,
   "metadata": {},
   "outputs": [
    {
     "data": {
      "text/plain": [
       "<matplotlib.axes._subplots.AxesSubplot at 0x7fa5691292e8>"
      ]
     },
     "execution_count": 9,
     "metadata": {},
     "output_type": "execute_result"
    },
    {
     "data": {
      "image/png": "[encoded data removed]",
      "text/plain": [
       "<Figure size 864x432 with 1 Axes>"
      ]
     },
     "metadata": {},
     "output_type": "display_data"
    }
   ],
   "source": [
    "df_sorted = df.sort_values(by='year')\n",
    "ds = df_sorted.length.plot(kind='bar', figsize=(12, 6))\n",
    "ds.set_ylabel('Seconds')\n",
    "ds.xaxis.set_visible(False)\n",
    "ds"
   ]
  },
  {
   "cell_type": "markdown",
   "metadata": {},
   "source": [
    "You can see easily that in the first half the songs tend to be rather uniform in length, but in the second half variance rises dramatically.\n",
    "\n",
    "Let's compare the means, variance and median by years."
   ]
  },
  {
   "cell_type": "code",
   "execution_count": 10,
   "metadata": {},
   "outputs": [
    {
     "data": {
      "text/plain": [
       "<matplotlib.axes._subplots.AxesSubplot at 0x7fa568c28898>"
      ]
     },
     "execution_count": 10,
     "metadata": {},
     "output_type": "execute_result"
    },
    {
     "data": {
      "image/png": "[encoded data removed]",
      "text/plain": [
       "<Figure size 432x288 with 1 Axes>"
      ]
     },
     "metadata": {},
     "output_type": "display_data"
    }
   ],
   "source": [
    "# compare means\n",
    "gr = df_sorted.groupby('year')\n",
    "gr.length.aggregate(np.mean).plot(kind='bar', rot=45)"
   ]
  },
  {
   "cell_type": "code",
   "execution_count": 11,
   "metadata": {},
   "outputs": [
    {
     "data": {
      "text/plain": [
       "<matplotlib.axes._subplots.AxesSubplot at 0x7fa566b726a0>"
      ]
     },
     "execution_count": 11,
     "metadata": {},
     "output_type": "execute_result"
    },
    {
     "data": {
      "image/png": "[encoded data removed]",
      "text/plain": [
       "<Figure size 432x288 with 1 Axes>"
      ]
     },
     "metadata": {},
     "output_type": "display_data"
    }
   ],
   "source": [
    "# compare medians\n",
    "gr.length.aggregate(np.median).plot(kind='bar', rot=45)"
   ]
  },
  {
   "cell_type": "code",
   "execution_count": 12,
   "metadata": {},
   "outputs": [
    {
     "data": {
      "text/plain": [
       "<matplotlib.axes._subplots.AxesSubplot at 0x7fa566ae73c8>"
      ]
     },
     "execution_count": 12,
     "metadata": {},
     "output_type": "execute_result"
    },
    {
     "data": {
      "image/png": "[encoded data removed]",
      "text/plain": [
       "<Figure size 432x288 with 1 Axes>"
      ]
     },
     "metadata": {},
     "output_type": "display_data"
    }
   ],
   "source": [
    "# compare standard deviations\n",
    "gr.length.aggregate(np.std).plot(kind='bar', rot=45)"
   ]
  },
  {
   "cell_type": "markdown",
   "metadata": {},
   "source": [
    "We clearly see two different periods: 1963-66 and 1967-70. In the first, short mean and median lengths slowly rise, while the songs are rather uniform; in the second, long mean lengths slightly fall, and the variance is rather high. But it's interesting that median song length generally only rises with time, so the average song becomes a bit longer every year.\n",
    "\n",
    "Let's see now how cover songs affect songs length. First, let's see how long they are and to which years they belong. "
   ]
  },
  {
   "cell_type": "code",
   "execution_count": 13,
   "metadata": {},
   "outputs": [
    {
     "data": {
      "text/plain": [
       "<matplotlib.axes._subplots.AxesSubplot at 0x7fa566aab320>"
      ]
     },
     "execution_count": 13,
     "metadata": {},
     "output_type": "execute_result"
    },
    {
     "data": {
      "image/png": "[encoded data removed]",
      "text/plain": [
       "<Figure size 432x288 with 1 Axes>"
      ]
     },
     "metadata": {},
     "output_type": "display_data"
    }
   ],
   "source": [
    "# group cover songs by year and plot their mean lengths\n",
    "gr_cover = df_sorted[df_sorted.cover==True].groupby('year')\n",
    "gr_cover.length.aggregate(np.mean).plot(kind='bar', rot=45)"
   ]
  },
  {
   "cell_type": "markdown",
   "metadata": {},
   "source": [
    "So, almost all covers belong to the first three years and are rather uniform. After that, let's compare total lengths with original songs lengths."
   ]
  },
  {
   "cell_type": "code",
   "execution_count": 14,
   "metadata": {},
   "outputs": [
    {
     "data": {
      "text/plain": [
       "<matplotlib.axes._subplots.AxesSubplot at 0x7fa566a89860>"
      ]
     },
     "execution_count": 14,
     "metadata": {},
     "output_type": "execute_result"
    },
    {
     "data": {
      "image/png": "[encoded data removed]",
      "text/plain": [
       "<Figure size 1152x576 with 2 Axes>"
      ]
     },
     "metadata": {},
     "output_type": "display_data"
    }
   ],
   "source": [
    "# separate original songs from cover songs\n",
    "df_orig = df[df.cover==False]\n",
    "df_cover = df[df.cover==True]\n",
    "fig, axs = plt.subplots(1, 2, sharey=True)\n",
    "df_cover.length.plot.box(color=color, sym='r+', ax=axs[0], figsize=(16, 8), title='Covers')\n",
    "df_orig.length.plot.box(color=color, sym='r+', ax=axs[1], figsize=(16, 8), title='Originals')"
   ]
  },
  {
   "cell_type": "markdown",
   "metadata": {},
   "source": [
    "We see that covers are much more uniform in comparison to originals. They also tend to be a bit shorter."
   ]
  },
  {
   "cell_type": "code",
   "execution_count": 15,
   "metadata": {},
   "outputs": [
    {
     "data": {
      "text/plain": [
       "count    184.000000\n",
       "mean     164.184783\n",
       "std       56.401068\n",
       "min       23.000000\n",
       "25%      132.500000\n",
       "50%      153.000000\n",
       "75%      183.000000\n",
       "max      467.000000\n",
       "Name: length, dtype: float64"
      ]
     },
     "execution_count": 15,
     "metadata": {},
     "output_type": "execute_result"
    }
   ],
   "source": [
    "df_orig.length.describe()"
   ]
  },
  {
   "cell_type": "markdown",
   "metadata": {},
   "source": [
    "Without covers, there are 184 original songs, and the mean length is 164 seconds (compared to overall 162), while standard deviation is 61.5 (compared to overall 54.2). \n",
    "\n",
    "Let's find the most typical songs by length, i.e. those with median length."
   ]
  },
  {
   "cell_type": "code",
   "execution_count": 16,
   "metadata": {},
   "outputs": [
    {
     "data": {
      "text/plain": [
       "152.0"
      ]
     },
     "execution_count": 16,
     "metadata": {},
     "output_type": "execute_result"
    }
   ],
   "source": [
    "df['length'].median()"
   ]
  },
  {
   "cell_type": "markdown",
   "metadata": {},
   "source": [
    "The median length is 152 seconds (which is less than the mean), i.e., about 2.5 minutes."
   ]
  },
  {
   "cell_type": "code",
   "execution_count": 17,
   "metadata": {},
   "outputs": [
    {
     "data": {
      "text/plain": [
       "37           For You Blue\n",
       "167    A Hard Day's Night\n",
       "171        And I Love Her\n",
       "188         Hold Me Tight\n",
       "Name: title, dtype: object"
      ]
     },
     "execution_count": 17,
     "metadata": {},
     "output_type": "execute_result"
    }
   ],
   "source": [
    "# songs with median length\n",
    "df[df.length==df.length.median()].title"
   ]
  },
  {
   "cell_type": "markdown",
   "metadata": {},
   "source": [
    "And which year are they from?"
   ]
  },
  {
   "cell_type": "code",
   "execution_count": 18,
   "metadata": {},
   "outputs": [
    {
     "data": {
      "text/plain": [
       "37     1970\n",
       "167    1964\n",
       "171    1964\n",
       "188    1963\n",
       "Name: year, dtype: int64"
      ]
     },
     "execution_count": 18,
     "metadata": {},
     "output_type": "execute_result"
    }
   ],
   "source": [
    "# songs with median length's years\n",
    "df[df.length==df.length.median()].year"
   ]
  },
  {
   "cell_type": "markdown",
   "metadata": {},
   "source": [
    "Three of the four are from the first period. No surprise, given the higher variability in the second period.\n",
    "\n",
    "The last mark; let's see the distribution of total length by year."
   ]
  },
  {
   "cell_type": "code",
   "execution_count": 19,
   "metadata": {},
   "outputs": [
    {
     "data": {
      "text/plain": [
       "<matplotlib.axes._subplots.AxesSubplot at 0x7fa566a43358>"
      ]
     },
     "execution_count": 19,
     "metadata": {},
     "output_type": "execute_result"
    },
    {
     "data": {
      "image/png": "[encoded data removed]",
      "text/plain": [
       "<Figure size 432x288 with 1 Axes>"
      ]
     },
     "metadata": {},
     "output_type": "display_data"
    }
   ],
   "source": [
    "gr.length.sum().plot(kind='bar', rot=45)"
   ]
  },
  {
   "cell_type": "markdown",
   "metadata": {},
   "source": [
    "As you can see, the Beatles gave us most minutes of music in 1968, with the <b><a href=\"https://en.wikipedia.org/wiki/The_Beatles_(album)\">White Album</a></b> (no single was out that year). The shortest year is the last, 1970."
   ]
  },
  {
   "cell_type": "markdown",
   "metadata": {},
   "source": [
    "<h2>Conclusion</h2>\n",
    "\n",
    "The overall mean song length is about 162 seconds, i.e., about 2.7 minutes. But there are two disinct periods: 1963-1966 and 1967-1970. In the first, short mean lengths slowly rise and the songs are rather uniform. In the second, long mean lengths slightly fall, but variance is rather high. The shortest and the longest songs both are in the second period (<i>Her Majesty</i> from <b>Abbey Road</b>, 1969 - 21 seconds, and <i>I Want You</i> from the same album, 467 seconds).\n",
    "\n",
    "Cover versions are present almost entirely only in the first period and in general are only a bit shorter and a bit more uniform. So they do not affect statistical parameters in a significant degree. The most typical songs in terms of length (152 seconds) are <i>For You Blue</i>, <i>A Hard Day's Night</i>, <i>And I Love Her</i> and <i>Hold Me Tight</i>. The most productive year for the band in terms of length was 1968, while the least so was 1970."
   ]
  }
 ],
 "metadata": {
  "kernelspec": {
   "display_name": "Python 3",
   "language": "python",
   "name": "python3"
  },
  "language_info": {
   "codemirror_mode": {
    "name": "ipython",
    "version": 3
   },
   "file_extension": ".py",
   "mimetype": "text/x-python",
   "name": "python",
   "nbconvert_exporter": "python",
   "pygments_lexer": "ipython3",
   "version": "3.5.2"
  }
 },
 "nbformat": 4,
 "nbformat_minor": 2
}
