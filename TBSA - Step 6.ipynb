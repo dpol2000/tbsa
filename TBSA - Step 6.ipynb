{
 "cells": [
  {
   "cell_type": "markdown",
   "metadata": {},
   "source": [
    "<h1>Word Frequency 2: Love and Know</h1>"
   ]
  },
  {
   "cell_type": "markdown",
   "metadata": {},
   "source": [
    "Here I continue to explore the word frequency in the Beatles lyrics. Let's remove <a href=\"https://en.wikipedia.org/wiki/Stop_words\">stopwords</a> and see what happens."
   ]
  },
  {
   "cell_type": "code",
   "execution_count": 1,
   "metadata": {
    "collapsed": true
   },
   "outputs": [],
   "source": [
    "%matplotlib inline\n",
    "import operator\n",
    "import pandas as pd\n",
    "import matplotlib.pyplot as plt\n",
    "import math\n",
    "import nltk\n",
    "\n",
    "from textblob import TextBlob, Word\n",
    "\n",
    "from IPython.display import HTML, display\n",
    "import tabulate\n",
    "\n",
    "from pandas import Series\n",
    "from collections import Counter\n",
    "\n",
    "from nltk.corpus import stopwords"
   ]
  },
  {
   "cell_type": "code",
   "execution_count": 2,
   "metadata": {
    "collapsed": true
   },
   "outputs": [],
   "source": [
    "# read the source data\n",
    "df = pd.read_json('data.json')"
   ]
  },
  {
   "cell_type": "markdown",
   "metadata": {},
   "source": [
    "To get rid of English stopwords, I download their list present in the <a href=\"https://www.nltk.org/\">NLTK library</a>. But that's not enough: after removing them pieces of English <a href=\"https://en.wikipedia.org/wiki/Wikipedia:List_of_English_contractions\">contractions</a> still remain, so these must be removed as well."
   ]
  },
  {
   "cell_type": "code",
   "execution_count": 3,
   "metadata": {},
   "outputs": [
    {
     "name": "stdout",
     "output_type": "stream",
     "text": [
      "[nltk_data] Downloading package stopwords to /home/hrutr/nltk_data...\n",
      "[nltk_data]   Package stopwords is already up-to-date!\n"
     ]
    },
    {
     "data": {
      "text/plain": [
       "True"
      ]
     },
     "execution_count": 3,
     "metadata": {},
     "output_type": "execute_result"
    }
   ],
   "source": [
    "nltk.download('stopwords')"
   ]
  },
  {
   "cell_type": "code",
   "execution_count": 4,
   "metadata": {
    "collapsed": true
   },
   "outputs": [],
   "source": [
    "# pieces of contractions to be removed\n",
    "sv_list = (\"'s\", \"n't\", \"'m\", \"'ll\", \"'re\", \"'ve\", \"'d\", \"d'you\", \"ca\")"
   ]
  },
  {
   "cell_type": "code",
   "execution_count": 5,
   "metadata": {
    "collapsed": true
   },
   "outputs": [],
   "source": [
    "def remove_stop_words(text):\n",
    "    blob = TextBlob(text)\n",
    "    words = [word for word in blob.words if word not in stopwords.words('english')]\n",
    "    words = [word for word in words if word not in sv_list]\n",
    "    result = ' '.join(words)\n",
    "    # glue some words back that were split by blob.words\n",
    "    result = result.replace('gon na', 'gonna').replace('wan na', 'wanna').replace('got ta', 'gotta')\n",
    "    return result"
   ]
  },
  {
   "cell_type": "code",
   "execution_count": 6,
   "metadata": {
    "collapsed": true
   },
   "outputs": [],
   "source": [
    "df['lyrics_without_stop_words'] = df['lowercase_lyrics'].apply(remove_stop_words)"
   ]
  },
  {
   "cell_type": "markdown",
   "metadata": {},
   "source": [
    "Once again I need to count frequencies, so I use a function from the previous step."
   ]
  },
  {
   "cell_type": "code",
   "execution_count": 7,
   "metadata": {
    "collapsed": true
   },
   "outputs": [],
   "source": [
    "def count_frequencies(cleaned_lyrics):\n",
    "    '''\n",
    "        Count relative frequency for each word in lyrics\n",
    "    '''\n",
    "    \n",
    "    split_cleaned_lyrics = cleaned_lyrics.str.split()\n",
    "    \n",
    "    # list of all words\n",
    "    lyrics = [w for song in list(split_cleaned_lyrics.values) for w in song]\n",
    "    \n",
    "    lyrics_count = len(lyrics)\n",
    "    unique_words_count = len(set(lyrics))\n",
    "    c = Counter(lyrics)\n",
    "    \n",
    "    # list of tuples with word and its absolute frequency\n",
    "    raw_figures = sorted(c.items(), key=operator.itemgetter(1), reverse=True)\n",
    "    \n",
    "    # list of tuples with word and its relative frequency\n",
    "    shares = [(rf[0], round(float(100*rf[1])/lyrics_count, 2)) for rf in raw_figures]\n",
    "    return shares, unique_words_count, lyrics_count"
   ]
  },
  {
   "cell_type": "markdown",
   "metadata": {},
   "source": [
    "Now let's count unique words number and unique words coefficient (unique words number divided by total words number)."
   ]
  },
  {
   "cell_type": "code",
   "execution_count": 8,
   "metadata": {},
   "outputs": [
    {
     "name": "stdout",
     "output_type": "stream",
     "text": [
      "Unique words number: 2320\n",
      "Total words number: 18490\n",
      "Unique words coefficient: 0.13\n"
     ]
    }
   ],
   "source": [
    "shares, total_unique_words_number, total_words_number = count_frequencies(df['lyrics_without_stop_words'])\n",
    "\n",
    "print ('Unique words number: %i' % total_unique_words_number)\n",
    "print ('Total words number: %i' % total_words_number)\n",
    "print ('Unique words coefficient: {:.2f}'.format(total_unique_words_number/total_words_number))"
   ]
  },
  {
   "cell_type": "markdown",
   "metadata": {},
   "source": [
    "Remember that for the lyrics with stopwords these were 2515, 37877, and 0.07. The change is quite natural. Let's see the shares of individual words in the top twenty:"
   ]
  },
  {
   "cell_type": "code",
   "execution_count": 9,
   "metadata": {},
   "outputs": [
    {
     "name": "stdout",
     "output_type": "stream",
     "text": [
      "love 2.46\n",
      "know 2.11\n",
      "oh 1.57\n",
      "yeah 1.28\n",
      "got 0.98\n",
      "baby 0.96\n",
      "nah 0.94\n",
      "see 0.91\n",
      "say 0.88\n",
      "want 0.85\n",
      "come 0.85\n",
      "girl 0.84\n",
      "like 0.8\n",
      "let 0.76\n",
      "time 0.75\n",
      "get 0.75\n",
      "good 0.68\n",
      "need 0.68\n",
      "well 0.67\n",
      "back 0.66\n"
     ]
    }
   ],
   "source": [
    "for word, freq in shares[:20]:\n",
    "    print (word, freq)"
   ]
  },
  {
   "cell_type": "markdown",
   "metadata": {},
   "source": [
    "We see that the most common words are *love* and *know*. Let's plot the figures to see if the distribution is Zipfean."
   ]
  },
  {
   "cell_type": "code",
   "execution_count": 10,
   "metadata": {},
   "outputs": [
    {
     "data": {
      "text/plain": [
       "<matplotlib.axes._subplots.AxesSubplot at 0x7fd02f69f978>"
      ]
     },
     "execution_count": 10,
     "metadata": {},
     "output_type": "execute_result"
    },
    {
     "data": {
      "image/png": "[encoded data removed]",
      "text/plain": [
       "<Figure size 1440x720 with 1 Axes>"
      ]
     },
     "metadata": {},
     "output_type": "display_data"
    }
   ],
   "source": [
    "shares_dict = [[shares[0][1], shares[0][1]]]\n",
    "\n",
    "coef = shares[0][1] / shares[1][1]\n",
    "\n",
    "shares_dict.extend([[shares[i][1], shares[i-1][1]/coef] for i, s in enumerate(shares[0:200]) if i>0])\n",
    "\n",
    "df_shares = pd.DataFrame(shares_dict, columns=('Real values', 'Expected Zipfean values'))\n",
    "df_shares.plot(figsize=(20,10))"
   ]
  },
  {
   "cell_type": "markdown",
   "metadata": {},
   "source": [
    "Looks quite Zipfean, doesn't it?\n",
    "\n",
    "Now the time has come to see the distribution of words according to individual years."
   ]
  },
  {
   "cell_type": "code",
   "execution_count": 11,
   "metadata": {},
   "outputs": [
    {
     "data": {
      "text/html": [
       "<table><tr><td></td><td><strong>1963</strong></td><td></td><td><strong>1964</strong></td><td></td><td><strong>1965</strong></td><td></td><td><strong>1966</strong></td><td></td><td><strong>1967</strong></td><td></td><td><strong>1968</strong></td><td></td><td><strong>1969</strong></td><td></td><td><strong>1970</strong></td><td></td><td><strong>Total</strong></td></tr><tr><td>love</td><td>3.82</td><td>love</td><td>5.34</td><td>girl</td><td>2.61</td><td>day</td><td>2.61</td><td>know</td><td>3.38</td><td>nah</td><td>4.91</td><td>much</td><td>3.41</td><td>yeah</td><td>4.34</td><td>love</td><td>2.46</td></tr><tr><td>yeah</td><td>2.67</td><td>know</td><td>1.94</td><td>see</td><td>2.03</td><td>yellow</td><td>2.14</td><td>love</td><td>2.79</td><td>know</td><td>2.42</td><td>together</td><td>3.31</td><td>let</td><td>3.82</td><td>know</td><td>2.11</td></tr><tr><td>oh</td><td>2.56</td><td>baby</td><td>1.90</td><td>love</td><td>1.70</td><td>submarine</td><td>2.14</td><td>need</td><td>2.14</td><td>oh</td><td>1.94</td><td>know</td><td>1.79</td><td>back</td><td>2.95</td><td>oh</td><td>1.57</td></tr><tr><td>know</td><td>2.38</td><td>got</td><td>1.59</td><td>know</td><td>1.59</td><td>love</td><td>1.90</td><td>say</td><td>1.78</td><td>come</td><td>1.73</td><td>oh</td><td>1.73</td><td>oh</td><td>2.95</td><td>yeah</td><td>1.28</td></tr><tr><td>la</td><td>2.13</td><td>oh</td><td>1.59</td><td>baby</td><td>1.30</td><td>good</td><td>1.74</td><td>good</td><td>1.56</td><td>yeah</td><td>1.51</td><td>want</td><td>1.63</td><td>get</td><td>2.43</td><td>got</td><td>0.98</td></tr><tr><td>baby</td><td>1.77</td><td>time</td><td>1.47</td><td>like</td><td>1.23</td><td>know</td><td>1.58</td><td>hello</td><td>1.42</td><td>doo</td><td>1.48</td><td>sun</td><td>1.52</td><td>mine</td><td>2.17</td><td>baby</td><td>0.96</td></tr><tr><td>want</td><td>1.62</td><td>tell</td><td>1.28</td><td>got</td><td>1.20</td><td>paperback</td><td>1.50</td><td>better</td><td>1.38</td><td>hey</td><td>1.27</td><td>love</td><td>1.42</td><td>got</td><td>2.17</td><td>nah</td><td>0.94</td></tr><tr><td>hold</td><td>1.59</td><td>say</td><td>1.05</td><td>wo</td><td>1.12</td><td>writer</td><td>1.50</td><td>long</td><td>1.20</td><td>alright</td><td>1.27</td><td>yeah</td><td>1.16</td><td>home</td><td>1.91</td><td>see</td><td>0.91</td></tr><tr><td>wanna</td><td>1.55</td><td>honey</td><td>1.01</td><td>time</td><td>1.09</td><td>need</td><td>1.43</td><td>morning</td><td>1.20</td><td>make</td><td>1.18</td><td>let</td><td>1.16</td><td>everybody</td><td>1.48</td><td>say</td><td>0.88</td></tr><tr><td>got</td><td>1.33</td><td>cos</td><td>0.97</td><td>yes</td><td>1.05</td><td>sunshine</td><td>1.43</td><td>name</td><td>0.98</td><td>d'do</td><td>1.18</td><td>one</td><td>1.16</td><td>feeling</td><td>1.48</td><td>want</td><td>0.85</td></tr></table>"
      ],
      "text/plain": [
       "<IPython.core.display.HTML object>"
      ]
     },
     "metadata": {},
     "output_type": "display_data"
    }
   ],
   "source": [
    "shares_total = []\n",
    "\n",
    "for year in range(1963, 1971):\n",
    "    shares_year, uniq_words_number, words_total = count_frequencies(df[df['year']==year]['lyrics_without_stop_words'])\n",
    "    shares_total.append(shares_year)\n",
    "shares_total.append(shares)\n",
    "\n",
    "def show_table(shares, limit, headlines):\n",
    "    '''\n",
    "        Display an html table with shares data\n",
    "    '''\n",
    "    \n",
    "    words_by_column = '<tr>'\n",
    "    \n",
    "    for headline in headlines:\n",
    "        words_by_column = words_by_column + '<td></td><td><strong>%s</strong></td>' % str(headline)\n",
    "    words_by_column = words_by_column + '</tr>'    \n",
    "    \n",
    "    for i in range(0, limit):\n",
    "\n",
    "        words_by_column = words_by_column + '<tr>'\n",
    "\n",
    "        for st in shares:\n",
    "            \n",
    "            words_by_column = words_by_column + '<td>{}</td><td>{:.2f}</td>'.format(st[i][0], st[i][1])\n",
    "\n",
    "        words_by_column = words_by_column + '</tr>'    \n",
    "        \n",
    "    display(HTML('<table>' + words_by_column + '</table>'))\n",
    "\n",
    "show_table(shares_total, 10, list(range(1963, 1971)) + ['Total'])"
   ]
  },
  {
   "cell_type": "markdown",
   "metadata": {},
   "source": [
    "*Love* is the absolute leader in the first two years, then it is outrun by *girl* and *see* (1965), *day*, *submarine* and *yellow* (1966). In 1967 *know* and *love* are the top two, in 1968 it's *nah* and *know* (*love* isn't even present in the top ten), and 1970 has no *love* nor *know*.\n",
    "\n",
    "We see that there is no year which can be called typical. And again we see that some words have very high frequencies just because they are repeated many times in just one song.\n",
    "\n",
    "Let's take into account originality of the songs."
   ]
  },
  {
   "cell_type": "code",
   "execution_count": 12,
   "metadata": {},
   "outputs": [
    {
     "name": "stdout",
     "output_type": "stream",
     "text": [
      "Original songs: unique words number: 2145, unique words coefficient: 0.13\n",
      "Cover songs: unique words number: 543, unique words coefficient: 0.24\n"
     ]
    }
   ],
   "source": [
    "df_cover = df[df['cover']==True]\n",
    "df_orig = df[df['cover']==False]\n",
    "\n",
    "shares_orig, uniq_words_number, words_total = count_frequencies(df_orig['lyrics_without_stop_words'])\n",
    "\n",
    "print ('Original songs: unique words number: {}, unique words coefficient: {:.2f}'.format(uniq_words_number, uniq_words_number/words_total))\n",
    "\n",
    "shares_cover, uniq_words_number, words_total  = count_frequencies(df_cover['lyrics_without_stop_words'])\n",
    "\n",
    "print ('Cover songs: unique words number: {}, unique words coefficient: {:.2f}'.format(uniq_words_number, uniq_words_number/words_total))"
   ]
  },
  {
   "cell_type": "markdown",
   "metadata": {},
   "source": [
    "Covers have a higher unique words coefficient again! But what about words?"
   ]
  },
  {
   "cell_type": "code",
   "execution_count": 13,
   "metadata": {},
   "outputs": [
    {
     "data": {
      "text/html": [
       "<table><tr><td></td><td><strong>Original</strong></td><td></td><td><strong>Cover</strong></td><td></td><td><strong>Total</strong></td></tr><tr><td>love</td><td>2.59</td><td>baby</td><td>3.15</td><td>love</td><td>2.46</td></tr><tr><td>know</td><td>2.27</td><td>la</td><td>2.32</td><td>know</td><td>2.11</td></tr><tr><td>oh</td><td>1.57</td><td>well</td><td>2.23</td><td>oh</td><td>1.57</td></tr><tr><td>yeah</td><td>1.38</td><td>got</td><td>1.97</td><td>yeah</td><td>1.28</td></tr><tr><td>nah</td><td>1.07</td><td>want</td><td>1.66</td><td>got</td><td>0.98</td></tr><tr><td>see</td><td>0.94</td><td>love</td><td>1.58</td><td>baby</td><td>0.96</td></tr><tr><td>say</td><td>0.90</td><td>oh</td><td>1.58</td><td>nah</td><td>0.94</td></tr><tr><td>got</td><td>0.85</td><td>honey</td><td>1.45</td><td>see</td><td>0.91</td></tr><tr><td>like</td><td>0.84</td><td>come</td><td>1.18</td><td>say</td><td>0.88</td></tr><tr><td>girl</td><td>0.81</td><td>roll</td><td>1.14</td><td>want</td><td>0.85</td></tr></table>"
      ],
      "text/plain": [
       "<IPython.core.display.HTML object>"
      ]
     },
     "metadata": {},
     "output_type": "display_data"
    }
   ],
   "source": [
    "shares_total = [shares_orig, shares_cover, shares]\n",
    "show_table(shares_total, 10, ['Original', 'Cover', 'Total'])"
   ]
  },
  {
   "cell_type": "markdown",
   "metadata": {},
   "source": [
    "We see that cover versions are quite different when it comes to distribution of non-stop words! The leaders are *baby* and *got*, while for original and for total these are *love* and *know*.\n",
    "\n",
    "The last thing to look at here is authorship."
   ]
  },
  {
   "cell_type": "code",
   "execution_count": 14,
   "metadata": {},
   "outputs": [
    {
     "name": "stdout",
     "output_type": "stream",
     "text": [
      "Lennon: unique words number: 1041, unique words coefficient: 0.21\n",
      "McCartney: unique words number: 947, unique words coefficient: 0.21\n",
      "Harrison: unique words number: 462, unique words coefficient: 0.31\n"
     ]
    }
   ],
   "source": [
    "shares_total = []\n",
    "for writer in ('Lennon', 'McCartney', 'Harrison'):\n",
    "    shares_by_writer, uniq_words_number, words_total = count_frequencies(df[df['writers']==writer]['lyrics_without_stop_words'])\n",
    "    shares_total.append(shares_by_writer)\n",
    "    print ('{}: unique words number: {}, unique words coefficient: {:.2f}'.format(writer, uniq_words_number, uniq_words_number/words_total))"
   ]
  },
  {
   "cell_type": "markdown",
   "metadata": {},
   "source": [
    "Harrison is a leader in uniqueness again! But it was predictable."
   ]
  },
  {
   "cell_type": "code",
   "execution_count": 15,
   "metadata": {},
   "outputs": [
    {
     "data": {
      "text/html": [
       "<table><tr><td></td><td><strong>Lennon</strong></td><td></td><td><strong>McCartney</strong></td><td></td><td><strong>Harrison</strong></td></tr><tr><td>love</td><td>2.93</td><td>nah</td><td>3.56</td><td>much</td><td>5.08</td></tr><tr><td>know</td><td>2.52</td><td>know</td><td>1.65</td><td>know</td><td>2.51</td></tr><tr><td>oh</td><td>1.63</td><td>back</td><td>1.58</td><td>long</td><td>2.44</td></tr><tr><td>come</td><td>1.51</td><td>love</td><td>1.54</td><td>love</td><td>2.44</td></tr><tr><td>got</td><td>1.47</td><td>say</td><td>1.45</td><td>sun</td><td>1.76</td></tr><tr><td>yeah</td><td>1.26</td><td>oh</td><td>1.41</td><td>mine</td><td>1.69</td></tr><tr><td>good</td><td>1.16</td><td>let</td><td>1.27</td><td>like</td><td>1.63</td></tr><tr><td>need</td><td>1.14</td><td>go</td><td>1.16</td><td>please</td><td>1.56</td></tr><tr><td>want</td><td>1.08</td><td>get</td><td>1.12</td><td>want</td><td>1.49</td></tr><tr><td>let</td><td>1.06</td><td>doo</td><td>1.08</td><td>time</td><td>1.36</td></tr></table>"
      ],
      "text/plain": [
       "<IPython.core.display.HTML object>"
      ]
     },
     "metadata": {},
     "output_type": "display_data"
    }
   ],
   "source": [
    "show_table(shares_total, 10, ['Lennon', 'McCartney', 'Harrison'])"
   ]
  },
  {
   "cell_type": "markdown",
   "metadata": {},
   "source": [
    "It's interesting that Lennon has *love* as a favourite as expected, McCartney sang *nah* too many times, and Harrison liked *much* most of all. But all of them have *know* in the second place! And then differencies begin..."
   ]
  },
  {
   "cell_type": "markdown",
   "metadata": {},
   "source": [
    "I feel obliged to say here that there is an outstanding <a href=\"http://duelingdata.blogspot.ru/2016/01/the-beatles.html\">post</a> by Adam McCann with awesome infographics on the Beatles data. I can recommend everyone to have a look on it. The word frequency distribution there is different to mine, though. What are the possible reasons? First, he counts all the recorded songs by the Beatles, while I limit myself only to the songs which were officially released in the years of the band's activity. Second, he has definitely got rid of *yeah*, *nah* and the like. Third, as we both took the authorship data from Wikipedia... well, this source can change. "
   ]
  },
  {
   "cell_type": "markdown",
   "metadata": {},
   "source": [
    "Finally, let's find the words that are contained in the biggest number of songs. I did it on the previous step, but now stopwords are removed and the results must be different."
   ]
  },
  {
   "cell_type": "code",
   "execution_count": 16,
   "metadata": {
    "collapsed": true
   },
   "outputs": [],
   "source": [
    "split_lyrics = df['lyrics_without_stop_words'].str.split()\n",
    "\n",
    "def get_sorted_counter_by_songs(split_lyrics):\n",
    "\n",
    "    lyrics_by_song = list(split_lyrics.values)\n",
    "    counter_by_songs = {}\n",
    "    for song in lyrics_by_song:\n",
    "        words_found = set()\n",
    "        for word in song:\n",
    "            if word in counter_by_songs:\n",
    "                if word not in words_found:\n",
    "                    words_found.add(word)\n",
    "                    counter_by_songs[word] = counter_by_songs[word] + 1\n",
    "            else:\n",
    "                counter_by_songs[word] = 1\n",
    "                words_found.add(word)\n",
    "\n",
    "    return sorted(counter_by_songs.items(), key=operator.itemgetter(1), reverse=True)\n",
    "\n",
    "sorted_counter_by_songs = get_sorted_counter_by_songs(split_lyrics)"
   ]
  },
  {
   "cell_type": "markdown",
   "metadata": {},
   "source": [
    "So, the top 20 is as follows:"
   ]
  },
  {
   "cell_type": "code",
   "execution_count": 17,
   "metadata": {},
   "outputs": [
    {
     "name": "stdout",
     "output_type": "stream",
     "text": [
      "know 98\n",
      "love 89\n",
      "oh 80\n",
      "see 72\n",
      "like 63\n",
      "time 62\n",
      "say 58\n",
      "got 56\n",
      "want 53\n",
      "one 53\n",
      "go 50\n",
      "yeah 48\n",
      "never 46\n",
      "tell 45\n",
      "make 44\n",
      "get 44\n",
      "girl 42\n",
      "come 41\n",
      "well 41\n",
      "day 40\n"
     ]
    }
   ],
   "source": [
    "for word, freq in sorted_counter_by_songs[:20]:\n",
    "    print (word, freq)"
   ]
  },
  {
   "cell_type": "markdown",
   "metadata": {},
   "source": [
    "So we see that *know* and *love* are real leaders (*know* is even more frequent!) here as well. But is there a difference between cover songs and original songs? Let's see!"
   ]
  },
  {
   "cell_type": "code",
   "execution_count": 18,
   "metadata": {
    "collapsed": true
   },
   "outputs": [],
   "source": [
    "split_lyrics = df_orig['lyrics_without_stop_words'].str.split()\n",
    "sorted_counter_by_songs = get_sorted_counter_by_songs(split_lyrics)"
   ]
  },
  {
   "cell_type": "code",
   "execution_count": 19,
   "metadata": {},
   "outputs": [
    {
     "name": "stdout",
     "output_type": "stream",
     "text": [
      "know 90\n",
      "love 79\n",
      "see 67\n",
      "oh 65\n",
      "time 58\n",
      "like 56\n",
      "say 52\n",
      "one 47\n",
      "yeah 45\n",
      "want 44\n",
      "go 44\n",
      "got 44\n",
      "make 41\n",
      "get 41\n",
      "never 39\n",
      "day 38\n",
      "tell 35\n",
      "girl 35\n",
      "come 33\n",
      "way 33\n"
     ]
    }
   ],
   "source": [
    "for word, freq in sorted_counter_by_songs[:20]:\n",
    "    print (word, freq)"
   ]
  },
  {
   "cell_type": "markdown",
   "metadata": {},
   "source": [
    "Original songs repeat the total picture, and what about covers?"
   ]
  },
  {
   "cell_type": "code",
   "execution_count": 20,
   "metadata": {
    "collapsed": true
   },
   "outputs": [],
   "source": [
    "split_lyrics = df_cover['lyrics_without_stop_words'].str.split()\n",
    "sorted_counter_by_songs = get_sorted_counter_by_songs(split_lyrics)"
   ]
  },
  {
   "cell_type": "code",
   "execution_count": 21,
   "metadata": {},
   "outputs": [
    {
     "name": "stdout",
     "output_type": "stream",
     "text": [
      "oh 15\n",
      "got 12\n",
      "well 12\n",
      "tell 10\n",
      "love 10\n",
      "baby 10\n",
      "want 9\n",
      "know 8\n",
      "come 8\n",
      "way 7\n",
      "girl 7\n",
      "like 7\n",
      "never 7\n",
      "around 7\n",
      "ever 6\n",
      "wo 6\n",
      "home 6\n",
      "let 6\n",
      "go 6\n",
      "little 6\n"
     ]
    }
   ],
   "source": [
    "for word, freq in sorted_counter_by_songs[:20]:\n",
    "    print (word, freq)"
   ]
  },
  {
   "cell_type": "markdown",
   "metadata": {},
   "source": [
    "In cover songs the picture is completely different! *Love* gets only the fifth place. So high results for *love* and *know* truly belong to the Beatles' world."
   ]
  },
  {
   "cell_type": "markdown",
   "metadata": {},
   "source": [
    "<h2>CONCLUSION</h2>\n",
    "\n",
    "With stopwords removed, the most common words are *love* and *know*.\n",
    "\n",
    "*Love* is the absolute leader in the first two years, then it is outrun by other words. There is no year which would repeat the distribution of words in total in the top ten. Again we see that some words have very high frequencies just because they are repeated many times in just one song.\n",
    "\n",
    "While original songs have word frequency distribution close to total, cover versions are quite different. The leaders there are *baby* and *got*.\n",
    "\n",
    "Lennon, McCartney, and Harrison all have *know* in the second place. But only Lennon follows the total pattern of *love* and *know*. McCartney's favourite was *nah*, and Harrison liked *much* most of all.\n",
    "\n",
    "When it comes to the words that are contained in the biggest number of songs, *love* and *know* are leaders again (*know* is even more frequent). In cover songs *love* has only the third position, and *know* is even lower. The leaders are *oh*, *well* and *got*."
   ]
  }
 ],
 "metadata": {
  "kernelspec": {
   "display_name": "Python 3",
   "language": "python",
   "name": "python3"
  },
  "language_info": {
   "codemirror_mode": {
    "name": "ipython",
    "version": 3
   },
   "file_extension": ".py",
   "mimetype": "text/x-python",
   "name": "python",
   "nbconvert_exporter": "python",
   "pygments_lexer": "ipython3",
   "version": "3.5.2"
  }
 },
 "nbformat": 4,
 "nbformat_minor": 2
}
