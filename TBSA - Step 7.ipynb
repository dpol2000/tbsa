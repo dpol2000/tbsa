{
 "cells": [
  {
   "cell_type": "markdown",
   "metadata": {},
   "source": [
    "<h1>Parts of Speech</h1>"
   ]
  },
  {
   "cell_type": "markdown",
   "metadata": {},
   "source": [
    "This step contains analysis of parts of speech (POS) frequency in the Beatles songs."
   ]
  },
  {
   "cell_type": "code",
   "execution_count": 1,
   "metadata": {
    "collapsed": true
   },
   "outputs": [],
   "source": [
    "%matplotlib inline\n",
    "import operator\n",
    "import pandas as pd\n",
    "import matplotlib.pyplot as plt\n",
    "\n",
    "from IPython.display import HTML, display\n",
    "from collections import Counter"
   ]
  },
  {
   "cell_type": "markdown",
   "metadata": {},
   "source": [
    "For POS identification I decided to try <a href=\"https://spacy.io/\">SpaCy</a>. Still, one must keep in mind that all the figures below are not accurate for 100%, as accuracy of tagging algorithms is not perfect."
   ]
  },
  {
   "cell_type": "code",
   "execution_count": 2,
   "metadata": {
    "collapsed": true
   },
   "outputs": [],
   "source": [
    "import spacy\n",
    "nlp = spacy.load('en')"
   ]
  },
  {
   "cell_type": "code",
   "execution_count": 3,
   "metadata": {
    "collapsed": true
   },
   "outputs": [],
   "source": [
    "df = pd.read_json('data.json')"
   ]
  },
  {
   "cell_type": "code",
   "execution_count": 4,
   "metadata": {
    "collapsed": true
   },
   "outputs": [],
   "source": [
    "def count_frequencies(cleaned_lyrics):\n",
    "    '''\n",
    "        Count relative frequency for each word in lyrics\n",
    "    '''    \n",
    "    \n",
    "    split_cleaned_lyrics = cleaned_lyrics.str.split()\n",
    "    lyrics = [w for song in list(split_cleaned_lyrics.values) for w in song]\n",
    "    lyrics_count = len(lyrics)\n",
    "    unique_words_count = len(set(lyrics))\n",
    "    c = Counter(lyrics)\n",
    "    raw_figures = sorted(c.items(), key=operator.itemgetter(1), reverse=True)\n",
    "    shares = [(rf[0], round(float(100*rf[1])/lyrics_count, 2)) for rf in raw_figures]\n",
    "    return shares, unique_words_count, lyrics_count"
   ]
  },
  {
   "cell_type": "code",
   "execution_count": 5,
   "metadata": {
    "collapsed": true
   },
   "outputs": [],
   "source": [
    "def get_pos(song, tags=True):\n",
    "    '''\n",
    "        Get a POS tag for every word in a song\n",
    "    '''\n",
    "    \n",
    "    def get_sentences(song):\n",
    "        song_string = song.replace('[', '').replace(']', '')\n",
    "        song_string = song.replace('&#13;', '')\n",
    "        song_string = song_string.replace('<p>', '<br/>')\n",
    "        song_string = song_string.replace('</p>', '')\n",
    "        return [s.strip(' ') for s in song_string.split('<br/>') if s]\n",
    "    \n",
    "    output = []\n",
    "    \n",
    "    for sentence in get_sentences(song):\n",
    "    \n",
    "        song_obj = nlp(sentence)\n",
    "        \n",
    "        if tags:\n",
    "            output.extend([token.tag_ for token in song_obj])\n",
    "        else:\n",
    "            output.extend([token.pos_ for token in song_obj])\n",
    "    \n",
    "    output = ' '.join(output) \n",
    "    return output"
   ]
  },
  {
   "cell_type": "code",
   "execution_count": 6,
   "metadata": {
    "collapsed": true
   },
   "outputs": [],
   "source": [
    "df['cleaned_lyrics_pos_tags'] = df['lyrics'].apply(get_pos)\n",
    "df['cleaned_lyrics_pos'] = df['lyrics'].apply(get_pos, tags=False)"
   ]
  },
  {
   "cell_type": "markdown",
   "metadata": {},
   "source": [
    "With all preparations done, let's analyze POS frequency in the Beatles songs."
   ]
  },
  {
   "cell_type": "code",
   "execution_count": 7,
   "metadata": {
    "collapsed": true
   },
   "outputs": [],
   "source": [
    "shares, unique_pos_number, total_pos_number = count_frequencies(df['cleaned_lyrics_pos'])"
   ]
  },
  {
   "cell_type": "code",
   "execution_count": 8,
   "metadata": {},
   "outputs": [
    {
     "name": "stdout",
     "output_type": "stream",
     "text": [
      "Unique POS number: 15\n",
      "POS frequency, %:\n",
      "VERB 24.7\n",
      "PRON 15.55\n",
      "NOUN 13.15\n",
      "ADV 8.23\n",
      "PUNCT 7.55\n",
      "ADJ 6.76\n",
      "ADP 6.3\n",
      "DET 5.87\n",
      "INTJ 3.46\n",
      "PART 2.86\n",
      "PROPN 2.57\n",
      "CCONJ 2.2\n",
      "NUM 0.54\n",
      "X 0.27\n",
      "SYM 0.0\n"
     ]
    }
   ],
   "source": [
    "print (\"Unique POS number: %i\" % unique_pos_number)\n",
    "\n",
    "print (\"POS frequency, %:\")\n",
    "\n",
    "for pos, freq in shares:\n",
    "    print (pos, freq)"
   ]
  },
  {
   "cell_type": "markdown",
   "metadata": {},
   "source": [
    "So we have 15 unique POS categories. Let's plot the frequencies!"
   ]
  },
  {
   "cell_type": "code",
   "execution_count": 9,
   "metadata": {},
   "outputs": [
    {
     "data": {
      "text/plain": [
       "<matplotlib.axes._subplots.AxesSubplot at 0x7f1cc8401b38>"
      ]
     },
     "execution_count": 9,
     "metadata": {},
     "output_type": "execute_result"
    },
    {
     "data": {
      "image/png": "[encoded data removed]",
      "text/plain": [
       "<Figure size 432x288 with 1 Axes>"
      ]
     },
     "metadata": {},
     "output_type": "display_data"
    }
   ],
   "source": [
    "df_freq = pd.Series([s[1] for s in shares], index=[s[0] for s in shares])\n",
    "df_freq.plot.bar(title='POS frequency, %')"
   ]
  },
  {
   "cell_type": "markdown",
   "metadata": {},
   "source": [
    "So verbs have the first place, then we see pronouns and nouns not that far from each other. Adverbs, adjectives and others are less common (see full label descriptions <a href=\"https://spacy.io/api/annotation\">here</a>)."
   ]
  },
  {
   "cell_type": "markdown",
   "metadata": {},
   "source": [
    "One can now ask how well these results correspond to POS frequency in other texts in English.\n",
    "\n",
    "The <a href=\"http://www.aclweb.org/anthology/O00-1009\">work of Rebecca H. Shih, John Y. Chiang, and F. Tien</a> (2000) gives the following distribution for the British National Corpus:\n",
    "\n",
    "Noun: 24%<br>\n",
    "Verb: 15%<br>\n",
    "Punctuation: 12%<br>\n",
    "Preposition: 11%<br>\n",
    "Adjective: 8%<br>\n",
    "Pronoun: 8%<br>\n",
    "Article: 8%<br>\n",
    "Adverb: 5%<br>\n",
    "\n",
    "Some interesting information was <a href=\"http://infomotions.com/blog/2011/02/forays-into-parts-of-speech/\">presented</a> by Eric Lease Morgan (2011): \n",
    "\n",
    "Noun: 19%<br>\n",
    "Verb: 15%<br>\n",
    "Punctuation: 14%<br>\n",
    "Preposition: 13%<br>\n",
    "Determiner: 10%<br>\n",
    "Pronoun: 9%<br>\n",
    "Adverb: 7%<br>\n",
    "Adjective: 6%<br>\n",
    "Conjunction: 4%<br>\n",
    "\n",
    "We see that while figures can be different, the top four is the same in both cases: Noun - Verb - Punctuation - Preposition.\n",
    "\n",
    "In the Beatles lyrics it's completely different: Verb - Pronoun - Noun - Adverb."
   ]
  },
  {
   "cell_type": "markdown",
   "metadata": {},
   "source": [
    "Now let's see how these figues were changing with time."
   ]
  },
  {
   "cell_type": "code",
   "execution_count": 10,
   "metadata": {
    "collapsed": true
   },
   "outputs": [],
   "source": [
    "def show_table(shares, limit, headlines):\n",
    "    '''\n",
    "        Display an html table with shares data\n",
    "    '''    \n",
    "    \n",
    "    words_by_column = '<tr>'\n",
    "    \n",
    "    for headline in headlines:\n",
    "        words_by_column = words_by_column + '<td></td><td><strong>%s</strong></td>' % str(headline)\n",
    "    words_by_column = words_by_column + '</tr>'    \n",
    "    \n",
    "    if limit == 0:\n",
    "        limit = len(shares[0])\n",
    "    \n",
    "    for i in range(0, limit):\n",
    "\n",
    "        words_by_column = words_by_column + '<tr>'\n",
    "\n",
    "        for st in shares:\n",
    "            \n",
    "            if i < len(st):\n",
    "                words_by_column = words_by_column + '<td>{}</td><td>{:.2f}</td>'.format(st[i][0], st[i][1])\n",
    "            else:\n",
    "                words_by_column = words_by_column + '<td>-</td><td>-</td>'\n",
    "\n",
    "        words_by_column = words_by_column + '</tr>'    \n",
    "        \n",
    "    display(HTML('<table>' + words_by_column + '</table>'))"
   ]
  },
  {
   "cell_type": "code",
   "execution_count": 11,
   "metadata": {},
   "outputs": [
    {
     "data": {
      "text/html": [
       "<table><tr><td></td><td><strong>1963</strong></td><td></td><td><strong>1964</strong></td><td></td><td><strong>1965</strong></td><td></td><td><strong>1966</strong></td><td></td><td><strong>1967</strong></td><td></td><td><strong>1968</strong></td><td></td><td><strong>1969</strong></td><td></td><td><strong>1970</strong></td><td></td><td><strong>Total</strong></td></tr><tr><td>VERB</td><td>24.57</td><td>VERB</td><td>27.86</td><td>VERB</td><td>27.28</td><td>VERB</td><td>24.50</td><td>VERB</td><td>23.34</td><td>VERB</td><td>22.65</td><td>VERB</td><td>21.23</td><td>VERB</td><td>24.44</td><td>VERB</td><td>24.70</td></tr><tr><td>PRON</td><td>18.32</td><td>PRON</td><td>18.76</td><td>PRON</td><td>17.79</td><td>NOUN</td><td>15.84</td><td>NOUN</td><td>15.86</td><td>NOUN</td><td>13.90</td><td>PRON</td><td>13.89</td><td>PRON</td><td>16.95</td><td>PRON</td><td>15.55</td></tr><tr><td>NOUN</td><td>10.87</td><td>NOUN</td><td>13.01</td><td>NOUN</td><td>12.12</td><td>PRON</td><td>14.55</td><td>PRON</td><td>11.53</td><td>PRON</td><td>11.80</td><td>NOUN</td><td>12.27</td><td>NOUN</td><td>12.60</td><td>NOUN</td><td>13.15</td></tr><tr><td>PUNCT</td><td>9.56</td><td>ADV</td><td>8.79</td><td>ADV</td><td>9.39</td><td>PUNCT</td><td>8.66</td><td>ADJ</td><td>7.86</td><td>PUNCT</td><td>7.68</td><td>ADV</td><td>11.89</td><td>PUNCT</td><td>8.09</td><td>ADV</td><td>8.23</td></tr><tr><td>ADV</td><td>8.49</td><td>ADP</td><td>6.34</td><td>ADJ</td><td>6.78</td><td>ADJ</td><td>7.57</td><td>PUNCT</td><td>7.77</td><td>ADJ</td><td>6.62</td><td>PUNCT</td><td>9.36</td><td>ADP</td><td>6.98</td><td>PUNCT</td><td>7.55</td></tr><tr><td>ADP</td><td>6.28</td><td>ADJ</td><td>6.10</td><td>ADP</td><td>6.14</td><td>DET</td><td>7.08</td><td>DET</td><td>7.64</td><td>INTJ</td><td>6.56</td><td>ADJ</td><td>7.85</td><td>ADV</td><td>6.66</td><td>ADJ</td><td>6.76</td></tr><tr><td>ADJ</td><td>5.92</td><td>DET</td><td>4.98</td><td>PUNCT</td><td>6.10</td><td>ADV</td><td>6.82</td><td>ADV</td><td>6.54</td><td>ADV</td><td>6.51</td><td>DET</td><td>6.19</td><td>DET</td><td>6.18</td><td>ADP</td><td>6.30</td></tr><tr><td>DET</td><td>4.63</td><td>PUNCT</td><td>4.79</td><td>DET</td><td>5.29</td><td>ADP</td><td>6.22</td><td>ADP</td><td>6.51</td><td>ADP</td><td>6.39</td><td>ADP</td><td>5.74</td><td>ADJ</td><td>5.54</td><td>DET</td><td>5.87</td></tr><tr><td>INTJ</td><td>4.34</td><td>PART</td><td>3.15</td><td>PART</td><td>3.00</td><td>PART</td><td>2.54</td><td>PROPN</td><td>4.04</td><td>DET</td><td>6.20</td><td>PART</td><td>3.14</td><td>INTJ</td><td>4.63</td><td>INTJ</td><td>3.46</td></tr><tr><td>CCONJ</td><td>2.22</td><td>CCONJ</td><td>2.66</td><td>CCONJ</td><td>2.82</td><td>CCONJ</td><td>2.30</td><td>PART</td><td>3.18</td><td>PROPN</td><td>6.04</td><td>INTJ</td><td>2.89</td><td>PROPN</td><td>3.23</td><td>PART</td><td>2.86</td></tr></table>"
      ],
      "text/plain": [
       "<IPython.core.display.HTML object>"
      ]
     },
     "metadata": {},
     "output_type": "display_data"
    }
   ],
   "source": [
    "shares_total = []\n",
    "\n",
    "for year in range(1963, 1971):\n",
    "    shares_year, uniq_pos_number, pos_total = count_frequencies(df[df['year']==year]['cleaned_lyrics_pos'])\n",
    "    shares_total.append(shares_year)\n",
    "shares_total.append(shares)\n",
    "\n",
    "show_table(shares_total, 10, list(range(1963, 1971)) + ['Total'])"
   ]
  },
  {
   "cell_type": "markdown",
   "metadata": {},
   "source": [
    "We see that verbs are always leaders. Pronouns and nouns fight for the second place, with nouns winning in 1965, 1966 and 1967. \n",
    "\n",
    "It's time to look at the authors."
   ]
  },
  {
   "cell_type": "code",
   "execution_count": 12,
   "metadata": {},
   "outputs": [
    {
     "data": {
      "text/html": [
       "<table><tr><td></td><td><strong>Lennon</strong></td><td></td><td><strong>McCartney</strong></td><td></td><td><strong>Harrison</strong></td></tr><tr><td>VERB</td><td>26.58</td><td>VERB</td><td>23.46</td><td>VERB</td><td>24.67</td></tr><tr><td>PRON</td><td>16.19</td><td>PRON</td><td>14.01</td><td>PRON</td><td>18.96</td></tr><tr><td>NOUN</td><td>13.06</td><td>NOUN</td><td>12.78</td><td>ADV</td><td>11.99</td></tr><tr><td>PUNCT</td><td>7.58</td><td>ADV</td><td>8.85</td><td>NOUN</td><td>10.22</td></tr><tr><td>ADV</td><td>6.92</td><td>PUNCT</td><td>7.52</td><td>ADJ</td><td>8.15</td></tr><tr><td>ADJ</td><td>6.43</td><td>ADP</td><td>6.48</td><td>ADP</td><td>6.39</td></tr><tr><td>ADP</td><td>5.89</td><td>DET</td><td>5.88</td><td>PUNCT</td><td>6.08</td></tr><tr><td>DET</td><td>5.75</td><td>ADJ</td><td>5.69</td><td>DET</td><td>5.91</td></tr><tr><td>PART</td><td>3.51</td><td>INTJ</td><td>5.15</td><td>PART</td><td>2.35</td></tr><tr><td>INTJ</td><td>3.36</td><td>PROPN</td><td>3.95</td><td>CCONJ</td><td>2.32</td></tr></table>"
      ],
      "text/plain": [
       "<IPython.core.display.HTML object>"
      ]
     },
     "metadata": {},
     "output_type": "display_data"
    }
   ],
   "source": [
    "shares_total = []\n",
    "for writer in ('Lennon', 'McCartney', 'Harrison'):\n",
    "    shares_by_writer, uniq_pos_number, pos_total = count_frequencies(df[df['writers']==writer]['cleaned_lyrics_pos'])\n",
    "    shares_total.append(shares_by_writer)\n",
    "\n",
    "show_table(shares_total, 10, ['Lennon', 'McCartney', 'Harrison'])"
   ]
  },
  {
   "cell_type": "markdown",
   "metadata": {},
   "source": [
    "We see that all the three place verbs and pronouns on the first and the second place respectively. But as for on the third place, Harrison favours adverbs while the two others prefer nouns.\n",
    "\n",
    "What about cover songs then?"
   ]
  },
  {
   "cell_type": "code",
   "execution_count": 13,
   "metadata": {},
   "outputs": [
    {
     "data": {
      "text/html": [
       "<table><tr><td></td><td><strong>Original</strong></td><td></td><td><strong>Cover</strong></td><td></td><td><strong>Total</strong></td></tr><tr><td>VERB</td><td>24.86</td><td>VERB</td><td>23.49</td><td>VERB</td><td>24.70</td></tr><tr><td>PRON</td><td>15.70</td><td>NOUN</td><td>15.21</td><td>PRON</td><td>15.55</td></tr><tr><td>NOUN</td><td>12.88</td><td>PRON</td><td>14.45</td><td>NOUN</td><td>13.15</td></tr><tr><td>ADV</td><td>8.36</td><td>PUNCT</td><td>9.08</td><td>ADV</td><td>8.23</td></tr><tr><td>PUNCT</td><td>7.34</td><td>ADV</td><td>7.25</td><td>PUNCT</td><td>7.55</td></tr><tr><td>ADJ</td><td>6.82</td><td>ADJ</td><td>6.28</td><td>ADJ</td><td>6.76</td></tr><tr><td>ADP</td><td>6.40</td><td>DET</td><td>5.87</td><td>ADP</td><td>6.30</td></tr><tr><td>DET</td><td>5.87</td><td>ADP</td><td>5.52</td><td>DET</td><td>5.87</td></tr><tr><td>INTJ</td><td>3.45</td><td>INTJ</td><td>3.56</td><td>INTJ</td><td>3.46</td></tr><tr><td>PART</td><td>2.86</td><td>PART</td><td>2.86</td><td>PART</td><td>2.86</td></tr></table>"
      ],
      "text/plain": [
       "<IPython.core.display.HTML object>"
      ]
     },
     "metadata": {},
     "output_type": "display_data"
    }
   ],
   "source": [
    "df_cover = df[df.cover==True]\n",
    "df_orig = df[df.cover==False]\n",
    "\n",
    "shares_orig, uniq_pos_number, pos_total = count_frequencies(df_orig['cleaned_lyrics_pos'])\n",
    "shares_cover, uniq_pos_number, pos_total  = count_frequencies(df_cover['cleaned_lyrics_pos'])\n",
    "\n",
    "shares_total = [shares_orig, shares_cover, shares]\n",
    "show_table(shares_total, 10, ['Original', 'Cover', 'Total'])"
   ]
  },
  {
   "cell_type": "markdown",
   "metadata": {},
   "source": [
    "So the verb is an undisputable leader. The main difference between covers and originals is the place of nouns and pronouns: the second and the third or vice versa. Also, adverbs are a bit more common in originals songs, and determinatives in covers."
   ]
  },
  {
   "cell_type": "markdown",
   "metadata": {},
   "source": [
    "Now, let's look inside these broad categories like verbs, nouns, etc. and examine tags more closely!"
   ]
  },
  {
   "cell_type": "code",
   "execution_count": 14,
   "metadata": {
    "collapsed": true
   },
   "outputs": [],
   "source": [
    "tags_rows = df['cleaned_lyrics_pos_tags']\n",
    "pos_rows = df['cleaned_lyrics_pos']\n",
    "\n",
    "pos_tags = {}\n",
    "\n",
    "for pos_row, tags_row in zip(pos_rows, tags_rows):\n",
    "    \n",
    "    for pos, tag in zip(pos_row.split(), tags_row.split()):\n",
    "        \n",
    "        if pos in pos_tags:\n",
    "            if tag in pos_tags[pos]:\n",
    "                pos_tags[pos][tag] = pos_tags[pos][tag] + 1\n",
    "            else:\n",
    "                pos_tags[pos][tag] = 1\n",
    "        else:\n",
    "            pos_tags[pos] = {}"
   ]
  },
  {
   "cell_type": "code",
   "execution_count": 15,
   "metadata": {
    "collapsed": true
   },
   "outputs": [],
   "source": [
    "pts = []\n",
    "for pos, freq in shares:\n",
    "    total_count = sum([v for k, v in pos_tags[pos].items()])\n",
    "    pts.append([(x[0], round(100*x[1] / total_count, 2)) \n",
    "                for x in sorted(pos_tags[pos].items(), key=operator.itemgetter(1), reverse=True)])"
   ]
  },
  {
   "cell_type": "markdown",
   "metadata": {},
   "source": [
    "We are only interested in those categories that have subcategories."
   ]
  },
  {
   "cell_type": "code",
   "execution_count": 16,
   "metadata": {},
   "outputs": [
    {
     "data": {
      "text/html": [
       "<table><tr><td></td><td><strong>VERB</strong></td><td></td><td><strong>NOUN</strong></td><td></td><td><strong>ADV</strong></td><td></td><td><strong>PUNCT</strong></td><td></td><td><strong>ADJ</strong></td><td></td><td><strong>PART</strong></td><td></td><td><strong>PROPN</strong></td><td></td><td><strong>X</strong></td></tr><tr><td>VB</td><td>34.50</td><td>NN</td><td>82.86</td><td>RB</td><td>82.74</td><td>,</td><td>58.38</td><td>JJ</td><td>59.82</td><td>TO</td><td>58.69</td><td>NNP</td><td>98.57</td><td>FW</td><td>99.13</td></tr><tr><td>VBP</td><td>22.58</td><td>NNS</td><td>13.09</td><td>WRB</td><td>12.90</td><td>.</td><td>11.94</td><td>PRP$</td><td>30.06</td><td>RP</td><td>34.43</td><td>NNPS</td><td>1.43</td><td>ADD</td><td>0.87</td></tr><tr><td>VBZ</td><td>12.49</td><td>WP</td><td>4.05</td><td>EX</td><td>2.64</td><td>-RRB-</td><td>10.91</td><td>JJR</td><td>3.35</td><td>POS</td><td>6.89</td><td>-</td><td>-</td><td>-</td><td>-</td></tr><tr><td>MD</td><td>9.82</td><td>-</td><td>-</td><td>RBR</td><td>1.72</td><td>-LRB-</td><td>10.91</td><td>PDT</td><td>3.25</td><td>-</td><td>-</td><td>-</td><td>-</td><td>-</td><td>-</td></tr><tr><td>VBD</td><td>8.60</td><td>-</td><td>-</td><td>-</td><td>-</td><td>HYPH</td><td>3.67</td><td>WDT</td><td>3.08</td><td>-</td><td>-</td><td>-</td><td>-</td><td>-</td><td>-</td></tr><tr><td>VBG</td><td>7.69</td><td>-</td><td>-</td><td>-</td><td>-</td><td>''</td><td>1.48</td><td>JJS</td><td>0.44</td><td>-</td><td>-</td><td>-</td><td>-</td><td>-</td><td>-</td></tr><tr><td>VBN</td><td>4.31</td><td>-</td><td>-</td><td>-</td><td>-</td><td>``</td><td>1.36</td><td>-</td><td>-</td><td>-</td><td>-</td><td>-</td><td>-</td><td>-</td><td>-</td></tr></table>"
      ],
      "text/plain": [
       "<IPython.core.display.HTML object>"
      ]
     },
     "metadata": {},
     "output_type": "display_data"
    }
   ],
   "source": [
    "pts_filtered = []\n",
    "shares_filtered = []\n",
    "for pt, sh in zip(pts, shares):\n",
    "    if len(pt) > 1:\n",
    "        pts_filtered.append(pt)\n",
    "        shares_filtered.append(sh)\n",
    "\n",
    "show_table(pts_filtered, 0, [s[0] for s in shares_filtered])"
   ]
  },
  {
   "cell_type": "markdown",
   "metadata": {},
   "source": [
    "First, verbs. We see that verbs in their base form (VB) comprise more than a third. Then there come verbs in the non-3rd person singular present form (VBP, ~23%) and 3rd person singular present form (VBZ, ~12%). Other forms have less than 10% each."
   ]
  },
  {
   "cell_type": "markdown",
   "metadata": {},
   "source": [
    "As for nouns, ordinary nouns (in singular form) have about 83%, and plurals only 13%. Somehow spaCy counts WP (wh-pronouns like *which*) as a separate kind of nouns."
   ]
  },
  {
   "cell_type": "markdown",
   "metadata": {},
   "source": [
    "Adverbs are mostly ordinary adverbs (~83%), with about 13% of wh-adverbs. Existential *there* and comparative adverbs are not numerous. "
   ]
  },
  {
   "cell_type": "markdown",
   "metadata": {},
   "source": [
    "As for punctuation marks, commas are the most common (almost 60%). Then there are points (~12%) and round brackets (left and right for ~11%). Others are clerly non-significant."
   ]
  },
  {
   "cell_type": "markdown",
   "metadata": {},
   "source": [
    "Most of adjectives are ordinary (JJ in the table, about 60%). Possessive pronouns are in this category as well, comprising a third. Other types are not important."
   ]
  },
  {
   "cell_type": "markdown",
   "metadata": {},
   "source": [
    "Proper nouns are mostly singular."
   ]
  },
  {
   "cell_type": "markdown",
   "metadata": {},
   "source": [
    "<h2>CONCLUSION</h2>\n",
    "\n",
    "The most frequent part of speech in the Beatles lyrics is the verb (24.7%). Pronouns (15.55%) and nouns (13.15%) have the second and the third place, respectively.\n",
    "\n",
    "In comparison to other texts in English and the English language corpus, verbs and pronouns play significantly more important role in the Beatles lyrics.\n",
    "\n",
    "In time dynamics, the verb is always the leader. Pronouns and nouns fight for the second place.\n",
    "\n",
    "Songs by Lennon, McCartney and Harrison have verbs and pronouns on the first and the second place respectively. But as for the third place, Harrison favours adverbs while others prefer nouns.\n",
    "\n",
    "The verb is also the most common element in the cover songs. The main difference between covers and originals is the place of nouns and pronouns: the second and the third or vice versa. Also, adverbs are a bit more common in originals songs, and determinatives in covers.\n",
    "\n",
    "Verbs in their base form comprise more than a third of all verbs. Then there come verbs in the non-3rd person singular present form (~23%) and 3rd person singular present form (~12%). Other forms have less than 10% each. Nouns in singular form have about 83%, and plurals have only 13%. Adverbs are mostly ordinary adverbs (~83%), with about 13% of wh-adverbs. Existential *there* and comparative adverbs are not numerous. Commas are the most common punctuation mark (almost 60%). Then there are points (~12%) and round brackets (left and right for ~11%). Others are clerly non-significant. Most of adjectives are ordinary (about 60%). Proper nouns are mostly singular."
   ]
  }
 ],
 "metadata": {
  "kernelspec": {
   "display_name": "Python 3",
   "language": "python",
   "name": "python3"
  },
  "language_info": {
   "codemirror_mode": {
    "name": "ipython",
    "version": 3
   },
   "file_extension": ".py",
   "mimetype": "text/x-python",
   "name": "python",
   "nbconvert_exporter": "python",
   "pygments_lexer": "ipython3",
   "version": "3.5.2"
  }
 },
 "nbformat": 4,
 "nbformat_minor": 2
}
